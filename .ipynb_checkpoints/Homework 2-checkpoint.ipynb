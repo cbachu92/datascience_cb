{
 "cells": [
  {
   "cell_type": "code",
   "execution_count": 331,
   "metadata": {
    "collapsed": false
   },
   "outputs": [],
   "source": [
    "import pandas as pd\n",
    "import numpy as np\n",
    "import matplotlib.pyplot as plt\n",
    "%matplotlib inline\n",
    "from sklearn.learning_curve import learning_curve\n",
    "from sklearn.grid_search import GridSearchCV\n",
    "from sklearn.linear_model import LogisticRegression"
   ]
  },
  {
   "cell_type": "code",
   "execution_count": 332,
   "metadata": {
    "collapsed": false
   },
   "outputs": [],
   "source": [
    "data=pd.read_csv('https://archive.ics.uci.edu/ml/machine-learning-databases/pima-indians-diabetes/pima-indians-diabetes.data', \n",
    "    names=[\n",
    "    'Number of times pregnant', \n",
    "    'Plasma glucose concentration a 2 hours in an oral glucose tolerance test',\n",
    "    'Diastolic blood pressure mm Hg',\n",
    "    'Triceps skin fold thickness (mm)',\n",
    "    '2-Hour serum insulin (mu U/ml)',\n",
    "    'Body mass index (weight in kg/(height in m)^2)',\n",
    "    'Diabetes pedigree function',\n",
    "    'Age (years)',\n",
    "    'Diabetes'], header=0)"
   ]
  },
  {
   "cell_type": "code",
   "execution_count": 333,
   "metadata": {
    "collapsed": false
   },
   "outputs": [
    {
     "data": {
      "text/html": [
       "<div>\n",
       "<table border=\"1\" class=\"dataframe\">\n",
       "  <thead>\n",
       "    <tr style=\"text-align: right;\">\n",
       "      <th></th>\n",
       "      <th>Number of times pregnant</th>\n",
       "      <th>Plasma glucose concentration a 2 hours in an oral glucose tolerance test</th>\n",
       "      <th>Diastolic blood pressure mm Hg</th>\n",
       "      <th>Triceps skin fold thickness (mm)</th>\n",
       "      <th>2-Hour serum insulin (mu U/ml)</th>\n",
       "      <th>Body mass index (weight in kg/(height in m)^2)</th>\n",
       "      <th>Diabetes pedigree function</th>\n",
       "      <th>Age (years)</th>\n",
       "      <th>Diabetes</th>\n",
       "    </tr>\n",
       "  </thead>\n",
       "  <tbody>\n",
       "    <tr>\n",
       "      <th>0</th>\n",
       "      <td>1</td>\n",
       "      <td>85</td>\n",
       "      <td>66</td>\n",
       "      <td>29</td>\n",
       "      <td>0</td>\n",
       "      <td>26.6</td>\n",
       "      <td>0.351</td>\n",
       "      <td>31</td>\n",
       "      <td>0</td>\n",
       "    </tr>\n",
       "    <tr>\n",
       "      <th>1</th>\n",
       "      <td>8</td>\n",
       "      <td>183</td>\n",
       "      <td>64</td>\n",
       "      <td>0</td>\n",
       "      <td>0</td>\n",
       "      <td>23.3</td>\n",
       "      <td>0.672</td>\n",
       "      <td>32</td>\n",
       "      <td>1</td>\n",
       "    </tr>\n",
       "    <tr>\n",
       "      <th>2</th>\n",
       "      <td>1</td>\n",
       "      <td>89</td>\n",
       "      <td>66</td>\n",
       "      <td>23</td>\n",
       "      <td>94</td>\n",
       "      <td>28.1</td>\n",
       "      <td>0.167</td>\n",
       "      <td>21</td>\n",
       "      <td>0</td>\n",
       "    </tr>\n",
       "    <tr>\n",
       "      <th>3</th>\n",
       "      <td>0</td>\n",
       "      <td>137</td>\n",
       "      <td>40</td>\n",
       "      <td>35</td>\n",
       "      <td>168</td>\n",
       "      <td>43.1</td>\n",
       "      <td>2.288</td>\n",
       "      <td>33</td>\n",
       "      <td>1</td>\n",
       "    </tr>\n",
       "    <tr>\n",
       "      <th>4</th>\n",
       "      <td>5</td>\n",
       "      <td>116</td>\n",
       "      <td>74</td>\n",
       "      <td>0</td>\n",
       "      <td>0</td>\n",
       "      <td>25.6</td>\n",
       "      <td>0.201</td>\n",
       "      <td>30</td>\n",
       "      <td>0</td>\n",
       "    </tr>\n",
       "  </tbody>\n",
       "</table>\n",
       "</div>"
      ],
      "text/plain": [
       "   Number of times pregnant  \\\n",
       "0                         1   \n",
       "1                         8   \n",
       "2                         1   \n",
       "3                         0   \n",
       "4                         5   \n",
       "\n",
       "   Plasma glucose concentration a 2 hours in an oral glucose tolerance test  \\\n",
       "0                                                 85                          \n",
       "1                                                183                          \n",
       "2                                                 89                          \n",
       "3                                                137                          \n",
       "4                                                116                          \n",
       "\n",
       "   Diastolic blood pressure mm Hg  Triceps skin fold thickness (mm)  \\\n",
       "0                              66                                29   \n",
       "1                              64                                 0   \n",
       "2                              66                                23   \n",
       "3                              40                                35   \n",
       "4                              74                                 0   \n",
       "\n",
       "   2-Hour serum insulin (mu U/ml)  \\\n",
       "0                               0   \n",
       "1                               0   \n",
       "2                              94   \n",
       "3                             168   \n",
       "4                               0   \n",
       "\n",
       "   Body mass index (weight in kg/(height in m)^2)  Diabetes pedigree function  \\\n",
       "0                                            26.6                       0.351   \n",
       "1                                            23.3                       0.672   \n",
       "2                                            28.1                       0.167   \n",
       "3                                            43.1                       2.288   \n",
       "4                                            25.6                       0.201   \n",
       "\n",
       "   Age (years)  Diabetes  \n",
       "0           31         0  \n",
       "1           32         1  \n",
       "2           21         0  \n",
       "3           33         1  \n",
       "4           30         0  "
      ]
     },
     "execution_count": 333,
     "metadata": {},
     "output_type": "execute_result"
    }
   ],
   "source": [
    "data.head()"
   ]
  },
  {
   "cell_type": "code",
   "execution_count": 334,
   "metadata": {
    "collapsed": false
   },
   "outputs": [
    {
     "data": {
      "text/html": [
       "<div>\n",
       "<table border=\"1\" class=\"dataframe\">\n",
       "  <thead>\n",
       "    <tr style=\"text-align: right;\">\n",
       "      <th></th>\n",
       "      <th>Number of times pregnant</th>\n",
       "      <th>Plasma glucose concentration a 2 hours in an oral glucose tolerance test</th>\n",
       "      <th>Diastolic blood pressure mm Hg</th>\n",
       "      <th>Triceps skin fold thickness (mm)</th>\n",
       "      <th>2-Hour serum insulin (mu U/ml)</th>\n",
       "      <th>Body mass index (weight in kg/(height in m)^2)</th>\n",
       "      <th>Diabetes pedigree function</th>\n",
       "      <th>Age (years)</th>\n",
       "      <th>Diabetes</th>\n",
       "    </tr>\n",
       "  </thead>\n",
       "  <tbody>\n",
       "    <tr>\n",
       "      <th>Number of times pregnant</th>\n",
       "      <td>1.000000</td>\n",
       "      <td>0.128846</td>\n",
       "      <td>0.141197</td>\n",
       "      <td>-0.082495</td>\n",
       "      <td>-0.072999</td>\n",
       "      <td>0.017518</td>\n",
       "      <td>-0.033927</td>\n",
       "      <td>0.544018</td>\n",
       "      <td>0.221087</td>\n",
       "    </tr>\n",
       "    <tr>\n",
       "      <th>Plasma glucose concentration a 2 hours in an oral glucose tolerance test</th>\n",
       "      <td>0.128846</td>\n",
       "      <td>1.000000</td>\n",
       "      <td>0.152498</td>\n",
       "      <td>0.056381</td>\n",
       "      <td>0.332383</td>\n",
       "      <td>0.220955</td>\n",
       "      <td>0.136903</td>\n",
       "      <td>0.262408</td>\n",
       "      <td>0.465856</td>\n",
       "    </tr>\n",
       "    <tr>\n",
       "      <th>Diastolic blood pressure mm Hg</th>\n",
       "      <td>0.141197</td>\n",
       "      <td>0.152498</td>\n",
       "      <td>1.000000</td>\n",
       "      <td>0.207308</td>\n",
       "      <td>0.089098</td>\n",
       "      <td>0.281777</td>\n",
       "      <td>0.041180</td>\n",
       "      <td>0.239571</td>\n",
       "      <td>0.064882</td>\n",
       "    </tr>\n",
       "    <tr>\n",
       "      <th>Triceps skin fold thickness (mm)</th>\n",
       "      <td>-0.082495</td>\n",
       "      <td>0.056381</td>\n",
       "      <td>0.207308</td>\n",
       "      <td>1.000000</td>\n",
       "      <td>0.437974</td>\n",
       "      <td>0.392553</td>\n",
       "      <td>0.183498</td>\n",
       "      <td>-0.115873</td>\n",
       "      <td>0.073265</td>\n",
       "    </tr>\n",
       "    <tr>\n",
       "      <th>2-Hour serum insulin (mu U/ml)</th>\n",
       "      <td>-0.072999</td>\n",
       "      <td>0.332383</td>\n",
       "      <td>0.089098</td>\n",
       "      <td>0.437974</td>\n",
       "      <td>1.000000</td>\n",
       "      <td>0.198111</td>\n",
       "      <td>0.185579</td>\n",
       "      <td>-0.040942</td>\n",
       "      <td>0.131984</td>\n",
       "    </tr>\n",
       "    <tr>\n",
       "      <th>Body mass index (weight in kg/(height in m)^2)</th>\n",
       "      <td>0.017518</td>\n",
       "      <td>0.220955</td>\n",
       "      <td>0.281777</td>\n",
       "      <td>0.392553</td>\n",
       "      <td>0.198111</td>\n",
       "      <td>1.000000</td>\n",
       "      <td>0.140546</td>\n",
       "      <td>0.035911</td>\n",
       "      <td>0.292695</td>\n",
       "    </tr>\n",
       "    <tr>\n",
       "      <th>Diabetes pedigree function</th>\n",
       "      <td>-0.033927</td>\n",
       "      <td>0.136903</td>\n",
       "      <td>0.041180</td>\n",
       "      <td>0.183498</td>\n",
       "      <td>0.185579</td>\n",
       "      <td>0.140546</td>\n",
       "      <td>1.000000</td>\n",
       "      <td>0.032738</td>\n",
       "      <td>0.173245</td>\n",
       "    </tr>\n",
       "    <tr>\n",
       "      <th>Age (years)</th>\n",
       "      <td>0.544018</td>\n",
       "      <td>0.262408</td>\n",
       "      <td>0.239571</td>\n",
       "      <td>-0.115873</td>\n",
       "      <td>-0.040942</td>\n",
       "      <td>0.035911</td>\n",
       "      <td>0.032738</td>\n",
       "      <td>1.000000</td>\n",
       "      <td>0.236417</td>\n",
       "    </tr>\n",
       "    <tr>\n",
       "      <th>Diabetes</th>\n",
       "      <td>0.221087</td>\n",
       "      <td>0.465856</td>\n",
       "      <td>0.064882</td>\n",
       "      <td>0.073265</td>\n",
       "      <td>0.131984</td>\n",
       "      <td>0.292695</td>\n",
       "      <td>0.173245</td>\n",
       "      <td>0.236417</td>\n",
       "      <td>1.000000</td>\n",
       "    </tr>\n",
       "  </tbody>\n",
       "</table>\n",
       "</div>"
      ],
      "text/plain": [
       "                                                    Number of times pregnant  \\\n",
       "Number of times pregnant                                            1.000000   \n",
       "Plasma glucose concentration a 2 hours in an or...                  0.128846   \n",
       "Diastolic blood pressure mm Hg                                      0.141197   \n",
       "Triceps skin fold thickness (mm)                                   -0.082495   \n",
       "2-Hour serum insulin (mu U/ml)                                     -0.072999   \n",
       "Body mass index (weight in kg/(height in m)^2)                      0.017518   \n",
       "Diabetes pedigree function                                         -0.033927   \n",
       "Age (years)                                                         0.544018   \n",
       "Diabetes                                                            0.221087   \n",
       "\n",
       "                                                    Plasma glucose concentration a 2 hours in an oral glucose tolerance test  \\\n",
       "Number of times pregnant                                                                     0.128846                          \n",
       "Plasma glucose concentration a 2 hours in an or...                                           1.000000                          \n",
       "Diastolic blood pressure mm Hg                                                               0.152498                          \n",
       "Triceps skin fold thickness (mm)                                                             0.056381                          \n",
       "2-Hour serum insulin (mu U/ml)                                                               0.332383                          \n",
       "Body mass index (weight in kg/(height in m)^2)                                               0.220955                          \n",
       "Diabetes pedigree function                                                                   0.136903                          \n",
       "Age (years)                                                                                  0.262408                          \n",
       "Diabetes                                                                                     0.465856                          \n",
       "\n",
       "                                                    Diastolic blood pressure mm Hg  \\\n",
       "Number of times pregnant                                                  0.141197   \n",
       "Plasma glucose concentration a 2 hours in an or...                        0.152498   \n",
       "Diastolic blood pressure mm Hg                                            1.000000   \n",
       "Triceps skin fold thickness (mm)                                          0.207308   \n",
       "2-Hour serum insulin (mu U/ml)                                            0.089098   \n",
       "Body mass index (weight in kg/(height in m)^2)                            0.281777   \n",
       "Diabetes pedigree function                                                0.041180   \n",
       "Age (years)                                                               0.239571   \n",
       "Diabetes                                                                  0.064882   \n",
       "\n",
       "                                                    Triceps skin fold thickness (mm)  \\\n",
       "Number of times pregnant                                                   -0.082495   \n",
       "Plasma glucose concentration a 2 hours in an or...                          0.056381   \n",
       "Diastolic blood pressure mm Hg                                              0.207308   \n",
       "Triceps skin fold thickness (mm)                                            1.000000   \n",
       "2-Hour serum insulin (mu U/ml)                                              0.437974   \n",
       "Body mass index (weight in kg/(height in m)^2)                              0.392553   \n",
       "Diabetes pedigree function                                                  0.183498   \n",
       "Age (years)                                                                -0.115873   \n",
       "Diabetes                                                                    0.073265   \n",
       "\n",
       "                                                    2-Hour serum insulin (mu U/ml)  \\\n",
       "Number of times pregnant                                                 -0.072999   \n",
       "Plasma glucose concentration a 2 hours in an or...                        0.332383   \n",
       "Diastolic blood pressure mm Hg                                            0.089098   \n",
       "Triceps skin fold thickness (mm)                                          0.437974   \n",
       "2-Hour serum insulin (mu U/ml)                                            1.000000   \n",
       "Body mass index (weight in kg/(height in m)^2)                            0.198111   \n",
       "Diabetes pedigree function                                                0.185579   \n",
       "Age (years)                                                              -0.040942   \n",
       "Diabetes                                                                  0.131984   \n",
       "\n",
       "                                                    Body mass index (weight in kg/(height in m)^2)  \\\n",
       "Number of times pregnant                                                                  0.017518   \n",
       "Plasma glucose concentration a 2 hours in an or...                                        0.220955   \n",
       "Diastolic blood pressure mm Hg                                                            0.281777   \n",
       "Triceps skin fold thickness (mm)                                                          0.392553   \n",
       "2-Hour serum insulin (mu U/ml)                                                            0.198111   \n",
       "Body mass index (weight in kg/(height in m)^2)                                            1.000000   \n",
       "Diabetes pedigree function                                                                0.140546   \n",
       "Age (years)                                                                               0.035911   \n",
       "Diabetes                                                                                  0.292695   \n",
       "\n",
       "                                                    Diabetes pedigree function  \\\n",
       "Number of times pregnant                                             -0.033927   \n",
       "Plasma glucose concentration a 2 hours in an or...                    0.136903   \n",
       "Diastolic blood pressure mm Hg                                        0.041180   \n",
       "Triceps skin fold thickness (mm)                                      0.183498   \n",
       "2-Hour serum insulin (mu U/ml)                                        0.185579   \n",
       "Body mass index (weight in kg/(height in m)^2)                        0.140546   \n",
       "Diabetes pedigree function                                            1.000000   \n",
       "Age (years)                                                           0.032738   \n",
       "Diabetes                                                              0.173245   \n",
       "\n",
       "                                                    Age (years)  Diabetes  \n",
       "Number of times pregnant                               0.544018  0.221087  \n",
       "Plasma glucose concentration a 2 hours in an or...     0.262408  0.465856  \n",
       "Diastolic blood pressure mm Hg                         0.239571  0.064882  \n",
       "Triceps skin fold thickness (mm)                      -0.115873  0.073265  \n",
       "2-Hour serum insulin (mu U/ml)                        -0.040942  0.131984  \n",
       "Body mass index (weight in kg/(height in m)^2)         0.035911  0.292695  \n",
       "Diabetes pedigree function                             0.032738  0.173245  \n",
       "Age (years)                                            1.000000  0.236417  \n",
       "Diabetes                                               0.236417  1.000000  "
      ]
     },
     "execution_count": 334,
     "metadata": {},
     "output_type": "execute_result"
    }
   ],
   "source": [
    "data.corr()\n",
    "# All the correlations are fairly low which can immediately rule out "
   ]
  },
  {
   "cell_type": "code",
   "execution_count": 335,
   "metadata": {
    "collapsed": false
   },
   "outputs": [
    {
     "name": "stdout",
     "output_type": "stream",
     "text": [
      "<class 'pandas.core.frame.DataFrame'>\n",
      "Int64Index: 767 entries, 0 to 766\n",
      "Data columns (total 9 columns):\n",
      "Number of times pregnant                                                    767 non-null int64\n",
      "Plasma glucose concentration a 2 hours in an oral glucose tolerance test    767 non-null int64\n",
      "Diastolic blood pressure mm Hg                                              767 non-null int64\n",
      "Triceps skin fold thickness (mm)                                            767 non-null int64\n",
      "2-Hour serum insulin (mu U/ml)                                              767 non-null int64\n",
      "Body mass index (weight in kg/(height in m)^2)                              767 non-null float64\n",
      "Diabetes pedigree function                                                  767 non-null float64\n",
      "Age (years)                                                                 767 non-null int64\n",
      "Diabetes                                                                    767 non-null int64\n",
      "dtypes: float64(2), int64(7)\n",
      "memory usage: 59.9 KB\n"
     ]
    }
   ],
   "source": [
    "data.info()"
   ]
  },
  {
   "cell_type": "code",
   "execution_count": 336,
   "metadata": {
    "collapsed": false
   },
   "outputs": [
    {
     "data": {
      "text/html": [
       "<div>\n",
       "<table border=\"1\" class=\"dataframe\">\n",
       "  <thead>\n",
       "    <tr style=\"text-align: right;\">\n",
       "      <th></th>\n",
       "      <th>Number of times pregnant</th>\n",
       "      <th>Plasma glucose concentration a 2 hours in an oral glucose tolerance test</th>\n",
       "      <th>Diastolic blood pressure mm Hg</th>\n",
       "      <th>Triceps skin fold thickness (mm)</th>\n",
       "      <th>2-Hour serum insulin (mu U/ml)</th>\n",
       "      <th>Body mass index (weight in kg/(height in m)^2)</th>\n",
       "      <th>Diabetes pedigree function</th>\n",
       "      <th>Age (years)</th>\n",
       "      <th>Diabetes</th>\n",
       "    </tr>\n",
       "  </thead>\n",
       "  <tbody>\n",
       "    <tr>\n",
       "      <th>count</th>\n",
       "      <td>767.000000</td>\n",
       "      <td>767.000000</td>\n",
       "      <td>767.000000</td>\n",
       "      <td>767.000000</td>\n",
       "      <td>767.000000</td>\n",
       "      <td>767.000000</td>\n",
       "      <td>767.000000</td>\n",
       "      <td>767.000000</td>\n",
       "      <td>767.000000</td>\n",
       "    </tr>\n",
       "    <tr>\n",
       "      <th>mean</th>\n",
       "      <td>3.842243</td>\n",
       "      <td>120.859192</td>\n",
       "      <td>69.101695</td>\n",
       "      <td>20.517601</td>\n",
       "      <td>79.903520</td>\n",
       "      <td>31.990482</td>\n",
       "      <td>0.471674</td>\n",
       "      <td>33.219035</td>\n",
       "      <td>0.348110</td>\n",
       "    </tr>\n",
       "    <tr>\n",
       "      <th>std</th>\n",
       "      <td>3.370877</td>\n",
       "      <td>31.978468</td>\n",
       "      <td>19.368155</td>\n",
       "      <td>15.954059</td>\n",
       "      <td>115.283105</td>\n",
       "      <td>7.889091</td>\n",
       "      <td>0.331497</td>\n",
       "      <td>11.752296</td>\n",
       "      <td>0.476682</td>\n",
       "    </tr>\n",
       "    <tr>\n",
       "      <th>min</th>\n",
       "      <td>0.000000</td>\n",
       "      <td>0.000000</td>\n",
       "      <td>0.000000</td>\n",
       "      <td>0.000000</td>\n",
       "      <td>0.000000</td>\n",
       "      <td>0.000000</td>\n",
       "      <td>0.078000</td>\n",
       "      <td>21.000000</td>\n",
       "      <td>0.000000</td>\n",
       "    </tr>\n",
       "    <tr>\n",
       "      <th>25%</th>\n",
       "      <td>1.000000</td>\n",
       "      <td>99.000000</td>\n",
       "      <td>62.000000</td>\n",
       "      <td>0.000000</td>\n",
       "      <td>0.000000</td>\n",
       "      <td>27.300000</td>\n",
       "      <td>0.243500</td>\n",
       "      <td>24.000000</td>\n",
       "      <td>0.000000</td>\n",
       "    </tr>\n",
       "    <tr>\n",
       "      <th>50%</th>\n",
       "      <td>3.000000</td>\n",
       "      <td>117.000000</td>\n",
       "      <td>72.000000</td>\n",
       "      <td>23.000000</td>\n",
       "      <td>32.000000</td>\n",
       "      <td>32.000000</td>\n",
       "      <td>0.371000</td>\n",
       "      <td>29.000000</td>\n",
       "      <td>0.000000</td>\n",
       "    </tr>\n",
       "    <tr>\n",
       "      <th>75%</th>\n",
       "      <td>6.000000</td>\n",
       "      <td>140.000000</td>\n",
       "      <td>80.000000</td>\n",
       "      <td>32.000000</td>\n",
       "      <td>127.500000</td>\n",
       "      <td>36.600000</td>\n",
       "      <td>0.625000</td>\n",
       "      <td>41.000000</td>\n",
       "      <td>1.000000</td>\n",
       "    </tr>\n",
       "    <tr>\n",
       "      <th>max</th>\n",
       "      <td>17.000000</td>\n",
       "      <td>199.000000</td>\n",
       "      <td>122.000000</td>\n",
       "      <td>99.000000</td>\n",
       "      <td>846.000000</td>\n",
       "      <td>67.100000</td>\n",
       "      <td>2.420000</td>\n",
       "      <td>81.000000</td>\n",
       "      <td>1.000000</td>\n",
       "    </tr>\n",
       "  </tbody>\n",
       "</table>\n",
       "</div>"
      ],
      "text/plain": [
       "       Number of times pregnant  \\\n",
       "count                767.000000   \n",
       "mean                   3.842243   \n",
       "std                    3.370877   \n",
       "min                    0.000000   \n",
       "25%                    1.000000   \n",
       "50%                    3.000000   \n",
       "75%                    6.000000   \n",
       "max                   17.000000   \n",
       "\n",
       "       Plasma glucose concentration a 2 hours in an oral glucose tolerance test  \\\n",
       "count                                         767.000000                          \n",
       "mean                                          120.859192                          \n",
       "std                                            31.978468                          \n",
       "min                                             0.000000                          \n",
       "25%                                            99.000000                          \n",
       "50%                                           117.000000                          \n",
       "75%                                           140.000000                          \n",
       "max                                           199.000000                          \n",
       "\n",
       "       Diastolic blood pressure mm Hg  Triceps skin fold thickness (mm)  \\\n",
       "count                      767.000000                        767.000000   \n",
       "mean                        69.101695                         20.517601   \n",
       "std                         19.368155                         15.954059   \n",
       "min                          0.000000                          0.000000   \n",
       "25%                         62.000000                          0.000000   \n",
       "50%                         72.000000                         23.000000   \n",
       "75%                         80.000000                         32.000000   \n",
       "max                        122.000000                         99.000000   \n",
       "\n",
       "       2-Hour serum insulin (mu U/ml)  \\\n",
       "count                      767.000000   \n",
       "mean                        79.903520   \n",
       "std                        115.283105   \n",
       "min                          0.000000   \n",
       "25%                          0.000000   \n",
       "50%                         32.000000   \n",
       "75%                        127.500000   \n",
       "max                        846.000000   \n",
       "\n",
       "       Body mass index (weight in kg/(height in m)^2)  \\\n",
       "count                                      767.000000   \n",
       "mean                                        31.990482   \n",
       "std                                          7.889091   \n",
       "min                                          0.000000   \n",
       "25%                                         27.300000   \n",
       "50%                                         32.000000   \n",
       "75%                                         36.600000   \n",
       "max                                         67.100000   \n",
       "\n",
       "       Diabetes pedigree function  Age (years)    Diabetes  \n",
       "count                  767.000000   767.000000  767.000000  \n",
       "mean                     0.471674    33.219035    0.348110  \n",
       "std                      0.331497    11.752296    0.476682  \n",
       "min                      0.078000    21.000000    0.000000  \n",
       "25%                      0.243500    24.000000    0.000000  \n",
       "50%                      0.371000    29.000000    0.000000  \n",
       "75%                      0.625000    41.000000    1.000000  \n",
       "max                      2.420000    81.000000    1.000000  "
      ]
     },
     "execution_count": 336,
     "metadata": {},
     "output_type": "execute_result"
    }
   ],
   "source": [
    "data.describe()"
   ]
  },
  {
   "cell_type": "code",
   "execution_count": 337,
   "metadata": {
    "collapsed": true
   },
   "outputs": [],
   "source": [
    "#Dataset Description, Goals, and Hypothesis\n",
    "\n",
    "# The dataset is trying to predict Diabetes in a population of 767 Pima Indians based on 8 already existing, measured\n",
    "# features. Therefore we are categorizing into two groups, diabetic or non-diabetic. There is a quite low correlation \n",
    "# between features so KNN is may be worth a try because of this though it may be prone to overfitting.\n",
    "# (This may be because zeros are not taken care of yet, but for now assuming these correlation values will stand)  \n",
    "# Naive Bayes may perform well in terms of accuracy since these features have low correlation AKA independence,\n",
    "# a main assumption of the Naive Bayes algorithm. I know RF will be the slowest particularly because of the low \n",
    "# correlation but I predict accuracy will be high especially when adjustin n_estimators."
   ]
  },
  {
   "cell_type": "code",
   "execution_count": 338,
   "metadata": {
    "collapsed": false
   },
   "outputs": [],
   "source": [
    "#No nulls, but zeros in glucose concentration, BMI, triceps skin fold are not possible AKA they are legitimate errors. \n",
    "# Zero in times pregnant would be fine to assume that the woman never got pregnant. \n",
    "# I know my code is terrible but bear with me --- I will come back to this \n",
    "#data[data['Plasma glucose concentration a 2 hours in an oral glucose tolerance test']==0] = np.nan\n",
    "#data[data['Diastolic blood pressure mm Hg']==0] = np.nan\n",
    "#data[data['Triceps skin fold thickness (mm)']==0] = np.nan\n",
    "#data[data['Body mass index (weight in kg/(height in m)^2)']==0] = np.nan"
   ]
  },
  {
   "cell_type": "code",
   "execution_count": 339,
   "metadata": {
    "collapsed": false
   },
   "outputs": [
    {
     "data": {
      "text/html": [
       "<div>\n",
       "<table border=\"1\" class=\"dataframe\">\n",
       "  <thead>\n",
       "    <tr style=\"text-align: right;\">\n",
       "      <th></th>\n",
       "      <th>Number of times pregnant</th>\n",
       "      <th>Plasma glucose concentration a 2 hours in an oral glucose tolerance test</th>\n",
       "      <th>Diastolic blood pressure mm Hg</th>\n",
       "      <th>Triceps skin fold thickness (mm)</th>\n",
       "      <th>2-Hour serum insulin (mu U/ml)</th>\n",
       "      <th>Body mass index (weight in kg/(height in m)^2)</th>\n",
       "      <th>Diabetes pedigree function</th>\n",
       "      <th>Age (years)</th>\n",
       "      <th>Diabetes</th>\n",
       "    </tr>\n",
       "  </thead>\n",
       "  <tbody>\n",
       "    <tr>\n",
       "      <th>0</th>\n",
       "      <td>1</td>\n",
       "      <td>85</td>\n",
       "      <td>66</td>\n",
       "      <td>29</td>\n",
       "      <td>0</td>\n",
       "      <td>26.6</td>\n",
       "      <td>0.351</td>\n",
       "      <td>31</td>\n",
       "      <td>0</td>\n",
       "    </tr>\n",
       "    <tr>\n",
       "      <th>1</th>\n",
       "      <td>8</td>\n",
       "      <td>183</td>\n",
       "      <td>64</td>\n",
       "      <td>0</td>\n",
       "      <td>0</td>\n",
       "      <td>23.3</td>\n",
       "      <td>0.672</td>\n",
       "      <td>32</td>\n",
       "      <td>1</td>\n",
       "    </tr>\n",
       "    <tr>\n",
       "      <th>2</th>\n",
       "      <td>1</td>\n",
       "      <td>89</td>\n",
       "      <td>66</td>\n",
       "      <td>23</td>\n",
       "      <td>94</td>\n",
       "      <td>28.1</td>\n",
       "      <td>0.167</td>\n",
       "      <td>21</td>\n",
       "      <td>0</td>\n",
       "    </tr>\n",
       "    <tr>\n",
       "      <th>3</th>\n",
       "      <td>0</td>\n",
       "      <td>137</td>\n",
       "      <td>40</td>\n",
       "      <td>35</td>\n",
       "      <td>168</td>\n",
       "      <td>43.1</td>\n",
       "      <td>2.288</td>\n",
       "      <td>33</td>\n",
       "      <td>1</td>\n",
       "    </tr>\n",
       "    <tr>\n",
       "      <th>4</th>\n",
       "      <td>5</td>\n",
       "      <td>116</td>\n",
       "      <td>74</td>\n",
       "      <td>0</td>\n",
       "      <td>0</td>\n",
       "      <td>25.6</td>\n",
       "      <td>0.201</td>\n",
       "      <td>30</td>\n",
       "      <td>0</td>\n",
       "    </tr>\n",
       "  </tbody>\n",
       "</table>\n",
       "</div>"
      ],
      "text/plain": [
       "   Number of times pregnant  \\\n",
       "0                         1   \n",
       "1                         8   \n",
       "2                         1   \n",
       "3                         0   \n",
       "4                         5   \n",
       "\n",
       "   Plasma glucose concentration a 2 hours in an oral glucose tolerance test  \\\n",
       "0                                                 85                          \n",
       "1                                                183                          \n",
       "2                                                 89                          \n",
       "3                                                137                          \n",
       "4                                                116                          \n",
       "\n",
       "   Diastolic blood pressure mm Hg  Triceps skin fold thickness (mm)  \\\n",
       "0                              66                                29   \n",
       "1                              64                                 0   \n",
       "2                              66                                23   \n",
       "3                              40                                35   \n",
       "4                              74                                 0   \n",
       "\n",
       "   2-Hour serum insulin (mu U/ml)  \\\n",
       "0                               0   \n",
       "1                               0   \n",
       "2                              94   \n",
       "3                             168   \n",
       "4                               0   \n",
       "\n",
       "   Body mass index (weight in kg/(height in m)^2)  Diabetes pedigree function  \\\n",
       "0                                            26.6                       0.351   \n",
       "1                                            23.3                       0.672   \n",
       "2                                            28.1                       0.167   \n",
       "3                                            43.1                       2.288   \n",
       "4                                            25.6                       0.201   \n",
       "\n",
       "   Age (years)  Diabetes  \n",
       "0           31         0  \n",
       "1           32         1  \n",
       "2           21         0  \n",
       "3           33         1  \n",
       "4           30         0  "
      ]
     },
     "execution_count": 339,
     "metadata": {},
     "output_type": "execute_result"
    }
   ],
   "source": [
    "data.head()"
   ]
  },
  {
   "cell_type": "code",
   "execution_count": 340,
   "metadata": {
    "collapsed": true
   },
   "outputs": [],
   "source": [
    "diab_labels = data['Diabetes']\n",
    "diab_X = data.drop('Diabetes', axis=1)"
   ]
  },
  {
   "cell_type": "code",
   "execution_count": 341,
   "metadata": {
    "collapsed": false
   },
   "outputs": [],
   "source": [
    "from sklearn.cross_validation import train_test_split\n",
    "X_train, X_test, y_train, y_test = train_test_split(diab_X, diab_labels, \n",
    "                                                    test_size=0.2, random_state=0)"
   ]
  },
  {
   "cell_type": "code",
   "execution_count": 342,
   "metadata": {
    "collapsed": true
   },
   "outputs": [],
   "source": [
    "from sklearn.cross_validation import ShuffleSplit\n",
    "cv = ShuffleSplit(X_train.shape[0], n_iter=10, test_size=0.2, random_state=0)"
   ]
  },
  {
   "cell_type": "code",
   "execution_count": 343,
   "metadata": {
    "collapsed": true
   },
   "outputs": [],
   "source": [
    "from sklearn.preprocessing import StandardScaler\n",
    "stdsc = StandardScaler()\n",
    "# transform our training features\n",
    "X_train_std = stdsc.fit_transform(X_train)\n",
    "# transform the testing features in the same way\n",
    "X_test_std = stdsc.transform(X_test)"
   ]
  },
  {
   "cell_type": "code",
   "execution_count": 344,
   "metadata": {
    "collapsed": false
   },
   "outputs": [
    {
     "data": {
      "text/html": [
       "<div>\n",
       "<table border=\"1\" class=\"dataframe\">\n",
       "  <thead>\n",
       "    <tr style=\"text-align: right;\">\n",
       "      <th></th>\n",
       "      <th>Number of times pregnant</th>\n",
       "      <th>Plasma glucose concentration a 2 hours in an oral glucose tolerance test</th>\n",
       "      <th>Diastolic blood pressure mm Hg</th>\n",
       "      <th>Triceps skin fold thickness (mm)</th>\n",
       "      <th>2-Hour serum insulin (mu U/ml)</th>\n",
       "      <th>Body mass index (weight in kg/(height in m)^2)</th>\n",
       "      <th>Diabetes pedigree function</th>\n",
       "      <th>Age (years)</th>\n",
       "    </tr>\n",
       "  </thead>\n",
       "  <tbody>\n",
       "    <tr>\n",
       "      <th>0</th>\n",
       "      <td>0.066497</td>\n",
       "      <td>1.929874</td>\n",
       "      <td>-3.488341</td>\n",
       "      <td>-1.308329</td>\n",
       "      <td>-0.690781</td>\n",
       "      <td>-0.470579</td>\n",
       "      <td>-0.766406</td>\n",
       "      <td>0.239252</td>\n",
       "    </tr>\n",
       "    <tr>\n",
       "      <th>1</th>\n",
       "      <td>0.066497</td>\n",
       "      <td>-0.694877</td>\n",
       "      <td>0.355525</td>\n",
       "      <td>-0.351053</td>\n",
       "      <td>-0.241970</td>\n",
       "      <td>-1.135186</td>\n",
       "      <td>-0.734597</td>\n",
       "      <td>-1.048004</td>\n",
       "    </tr>\n",
       "    <tr>\n",
       "      <th>2</th>\n",
       "      <td>1.554177</td>\n",
       "      <td>0.086299</td>\n",
       "      <td>0.052062</td>\n",
       "      <td>0.797678</td>\n",
       "      <td>2.846904</td>\n",
       "      <td>0.424084</td>\n",
       "      <td>-0.563987</td>\n",
       "      <td>0.067618</td>\n",
       "    </tr>\n",
       "    <tr>\n",
       "      <th>3</th>\n",
       "      <td>-0.528576</td>\n",
       "      <td>-1.038594</td>\n",
       "      <td>0.254371</td>\n",
       "      <td>-0.095780</td>\n",
       "      <td>-0.224369</td>\n",
       "      <td>-0.393894</td>\n",
       "      <td>-0.717247</td>\n",
       "      <td>-0.962187</td>\n",
       "    </tr>\n",
       "    <tr>\n",
       "      <th>4</th>\n",
       "      <td>0.661569</td>\n",
       "      <td>1.023710</td>\n",
       "      <td>0.456680</td>\n",
       "      <td>1.308225</td>\n",
       "      <td>0.541249</td>\n",
       "      <td>1.791641</td>\n",
       "      <td>0.271717</td>\n",
       "      <td>-0.533102</td>\n",
       "    </tr>\n",
       "  </tbody>\n",
       "</table>\n",
       "</div>"
      ],
      "text/plain": [
       "   Number of times pregnant  \\\n",
       "0                  0.066497   \n",
       "1                  0.066497   \n",
       "2                  1.554177   \n",
       "3                 -0.528576   \n",
       "4                  0.661569   \n",
       "\n",
       "   Plasma glucose concentration a 2 hours in an oral glucose tolerance test  \\\n",
       "0                                           1.929874                          \n",
       "1                                          -0.694877                          \n",
       "2                                           0.086299                          \n",
       "3                                          -1.038594                          \n",
       "4                                           1.023710                          \n",
       "\n",
       "   Diastolic blood pressure mm Hg  Triceps skin fold thickness (mm)  \\\n",
       "0                       -3.488341                         -1.308329   \n",
       "1                        0.355525                         -0.351053   \n",
       "2                        0.052062                          0.797678   \n",
       "3                        0.254371                         -0.095780   \n",
       "4                        0.456680                          1.308225   \n",
       "\n",
       "   2-Hour serum insulin (mu U/ml)  \\\n",
       "0                       -0.690781   \n",
       "1                       -0.241970   \n",
       "2                        2.846904   \n",
       "3                       -0.224369   \n",
       "4                        0.541249   \n",
       "\n",
       "   Body mass index (weight in kg/(height in m)^2)  Diabetes pedigree function  \\\n",
       "0                                       -0.470579                   -0.766406   \n",
       "1                                       -1.135186                   -0.734597   \n",
       "2                                        0.424084                   -0.563987   \n",
       "3                                       -0.393894                   -0.717247   \n",
       "4                                        1.791641                    0.271717   \n",
       "\n",
       "   Age (years)  \n",
       "0     0.239252  \n",
       "1    -1.048004  \n",
       "2     0.067618  \n",
       "3    -0.962187  \n",
       "4    -0.533102  "
      ]
     },
     "execution_count": 344,
     "metadata": {},
     "output_type": "execute_result"
    }
   ],
   "source": [
    "pd.DataFrame(X_train_std, columns=X_train.columns).head()"
   ]
  },
  {
   "cell_type": "code",
   "execution_count": 345,
   "metadata": {
    "collapsed": true
   },
   "outputs": [],
   "source": [
    "from sklearn.neighbors import KNeighborsClassifier\n",
    "knn = KNeighborsClassifier()"
   ]
  },
  {
   "cell_type": "code",
   "execution_count": 346,
   "metadata": {
    "collapsed": false
   },
   "outputs": [
    {
     "data": {
      "text/plain": [
       "GridSearchCV(cv=ShuffleSplit(613, n_iter=10, test_size=0.2, random_state=0),\n",
       "       error_score='raise',\n",
       "       estimator=KNeighborsClassifier(algorithm='auto', leaf_size=30, metric='minkowski',\n",
       "           metric_params=None, n_neighbors=5, p=2, weights='uniform'),\n",
       "       fit_params={}, iid=True, loss_func=None, n_jobs=1,\n",
       "       param_grid={'n_neighbors': [1, 2, 3, 4, 5, 6, 7, 8, 9, 10, 11, 12, 13, 14, 15, 16, 17, 18, 19, 20, 21, 22, 23, 24, 25, 26, 27, 28, 29], 'weights': ['uniform', 'distance'], 'p': [1, 2, 3]},\n",
       "       pre_dispatch='2*n_jobs', refit=True, score_func=None, scoring=None,\n",
       "       verbose=0)"
      ]
     },
     "execution_count": 346,
     "metadata": {},
     "output_type": "execute_result"
    }
   ],
   "source": [
    "# the parameters we want to search in a dictionary\n",
    "# use the parameter name from sklearn as the key\n",
    "# and the possible values you want to test as the values\n",
    "parameters = {'n_neighbors': range(1,30), 'weights': ['uniform', 'distance'],\n",
    "             'p': range(1,4)}\n",
    "clf = GridSearchCV(knn, parameters, cv=cv)\n",
    "clf.fit(X_train_std, y_train)"
   ]
  },
  {
   "cell_type": "code",
   "execution_count": 347,
   "metadata": {
    "collapsed": false
   },
   "outputs": [
    {
     "data": {
      "text/plain": [
       "{'n_neighbors': 21, 'p': 1, 'weights': 'distance'}"
      ]
     },
     "execution_count": 347,
     "metadata": {},
     "output_type": "execute_result"
    }
   ],
   "source": [
    "clf.best_params_"
   ]
  },
  {
   "cell_type": "code",
   "execution_count": 348,
   "metadata": {
    "collapsed": true
   },
   "outputs": [],
   "source": [
    "best_knn = clf.best_estimator_"
   ]
  },
  {
   "cell_type": "code",
   "execution_count": 349,
   "metadata": {
    "collapsed": false
   },
   "outputs": [],
   "source": [
    "def plot_learning_curve(estimator, title, X, y, ylim=None, cv=None,\n",
    "                       train_sizes=np.linspace(.2,1.0,10), n_jobs=1):\n",
    "    \"\"\"Create a learning curve to help\n",
    "    us determine if we are overfitting\n",
    "    or underfitting.\n",
    "    \n",
    "    Parameters\n",
    "    ----------\n",
    "    estimator (variable name) : our ML algorithm we want to plot\n",
    "\n",
    "    title (string) : title for our chart\n",
    "\n",
    "    X : our training dataframe\n",
    "\n",
    "    y : our training labels\n",
    "\n",
    "    ylim (tuple): min, max of the score, ie % accuracy\n",
    "\n",
    "    cv (variable name) : pass through for our CV strategy\n",
    "    \n",
    "    train_sizes (list-like) : the increments of % of our training data to use\n",
    "    \"\"\"\n",
    "    \n",
    "    plt.figure()\n",
    "    plt.title(title)\n",
    "    if ylim is not None:\n",
    "        plt.ylim(*ylim)\n",
    "    \n",
    "    plt.xlabel(\"Number of training examples used\")\n",
    "    plt.ylabel(\"Accuracy\")\n",
    "    train_sizes, train_scores, test_scores = learning_curve(\n",
    "        estimator, X, y, cv=cv, n_jobs=n_jobs, train_sizes=train_sizes)\n",
    "    train_scores_mean = np.mean(train_scores, axis=1)\n",
    "    train_scores_std = np.std(train_scores, axis=1)\n",
    "    test_scores_mean = np.mean(test_scores, axis=1)\n",
    "    test_scores_std = np.std(test_scores, axis=1)\n",
    "    plt.grid()\n",
    "\n",
    "    plt.fill_between(train_sizes, train_scores_mean - train_scores_std,\n",
    "                     train_scores_mean + train_scores_std, alpha=0.1,\n",
    "                     color=\"r\")\n",
    "    plt.fill_between(train_sizes, test_scores_mean - test_scores_std,\n",
    "                     test_scores_mean + test_scores_std, alpha=0.1, color=\"g\")\n",
    "    plt.plot(train_sizes, train_scores_mean, 'o-', color=\"r\",\n",
    "             label=\"Training score\")\n",
    "    plt.plot(train_sizes, test_scores_mean, 'o-', color=\"g\",\n",
    "             label=\"Cross-validation score\")\n",
    "\n",
    "    plt.legend(loc=\"best\")\n",
    "    return plt"
   ]
  },
  {
   "cell_type": "code",
   "execution_count": 350,
   "metadata": {
    "collapsed": false,
    "scrolled": true
   },
   "outputs": [
    {
     "data": {
      "image/png": "[encoded data removed]",
      "text/plain": [
       "<matplotlib.figure.Figure at 0x10bbcd850>"
      ]
     },
     "metadata": {},
     "output_type": "display_data"
    }
   ],
   "source": [
    "plot_learning_curve(best_knn, 'Learning Curve for kNN', X_train_std, y_train, cv=cv, train_sizes=np.linspace(.2,1.0,10), n_jobs=1);"
   ]
  },
  {
   "cell_type": "code",
   "execution_count": 351,
   "metadata": {
    "collapsed": false
   },
   "outputs": [
    {
     "data": {
      "text/plain": [
       "0    0.655844\n",
       "Name: Diabetes, dtype: float64"
      ]
     },
     "execution_count": 351,
     "metadata": {},
     "output_type": "execute_result"
    }
   ],
   "source": [
    "y_test.value_counts().head(1) / len(y_test)"
   ]
  },
  {
   "cell_type": "code",
   "execution_count": 352,
   "metadata": {
    "collapsed": false,
    "scrolled": true
   },
   "outputs": [
    {
     "data": {
      "text/plain": [
       "0.77272727272727271"
      ]
     },
     "execution_count": 352,
     "metadata": {},
     "output_type": "execute_result"
    }
   ],
   "source": [
    "best_knn.score(X_test_std, y_test)"
   ]
  },
  {
   "cell_type": "code",
   "execution_count": 353,
   "metadata": {
    "collapsed": false
   },
   "outputs": [
    {
     "name": "stdout",
     "output_type": "stream",
     "text": [
      "100 loops, best of 3: 2.96 ms per loop\n"
     ]
    }
   ],
   "source": [
    "%timeit best_knn.predict(X_test_std)"
   ]
  },
  {
   "cell_type": "code",
   "execution_count": 354,
   "metadata": {
    "collapsed": true
   },
   "outputs": [],
   "source": [
    "#LOGISTIC REGRESSION"
   ]
  },
  {
   "cell_type": "code",
   "execution_count": 355,
   "metadata": {
    "collapsed": true
   },
   "outputs": [],
   "source": [
    "feature_cols = ['Number of times pregnant', \n",
    "    'Plasma glucose concentration a 2 hours in an oral glucose tolerance test',\n",
    "    'Diastolic blood pressure mm Hg',\n",
    "    'Triceps skin fold thickness (mm)',\n",
    "    '2-Hour serum insulin (mu U/ml)',\n",
    "    'Body mass index (weight in kg/(height in m)^2)',\n",
    "    'Diabetes pedigree function',\n",
    "    'Age (years)']\n",
    "X = data[feature_cols]\n",
    "y = data['Diabetes']"
   ]
  },
  {
   "cell_type": "code",
   "execution_count": 356,
   "metadata": {
    "collapsed": true
   },
   "outputs": [],
   "source": [
    "X_train, X_test, y_train, y_test = train_test_split(X, y, random_state=1)\n",
    "cv = ShuffleSplit(X_train.shape[0], n_iter=10, test_size=0.2, random_state=0)\n",
    "stdsc = StandardScaler()\n",
    "# transform our training features\n",
    "X_train_std = stdsc.fit_transform(X_train)\n",
    "# transform the testing features in the same way\n",
    "X_test_std = stdsc.transform(X_test)"
   ]
  },
  {
   "cell_type": "code",
   "execution_count": 357,
   "metadata": {
    "collapsed": false
   },
   "outputs": [
    {
     "data": {
      "text/plain": [
       "GridSearchCV(cv=ShuffleSplit(575, n_iter=10, test_size=0.2, random_state=0),\n",
       "       error_score='raise',\n",
       "       estimator=LogisticRegression(C=1.0, class_weight=None, dual=False, fit_intercept=True,\n",
       "          intercept_scaling=1, max_iter=100, multi_class='ovr',\n",
       "          penalty='l2', random_state=None, solver='liblinear', tol=0.0001,\n",
       "          verbose=0),\n",
       "       fit_params={}, iid=True, loss_func=None, n_jobs=1,\n",
       "       param_grid={'C': array([  1.00000e-05,   1.01010e+03, ...,   9.89899e+04,   1.00000e+05]), 'class_weight': [None, 'auto']},\n",
       "       pre_dispatch='2*n_jobs', refit=True, score_func=None, scoring=None,\n",
       "       verbose=0)"
      ]
     },
     "execution_count": 357,
     "metadata": {},
     "output_type": "execute_result"
    }
   ],
   "source": [
    "parameters = {'C': np.linspace(1e-5, 1e5, 100), 'class_weight': [None, 'auto']}\n",
    "logreg = LogisticRegression()           \n",
    "clf = GridSearchCV(logreg, parameters, cv=cv)\n",
    "clf.fit(X_train_std, y_train)"
   ]
  },
  {
   "cell_type": "code",
   "execution_count": 358,
   "metadata": {
    "collapsed": false
   },
   "outputs": [
    {
     "data": {
      "text/plain": [
       "[('Number of times pregnant', 0.38596784456426436),\n",
       " ('Plasma glucose concentration a 2 hours in an oral glucose tolerance test',\n",
       "  1.0286213826886184),\n",
       " ('Diastolic blood pressure mm Hg', -0.25543647862738939),\n",
       " ('Triceps skin fold thickness (mm)', -0.10629858778060072),\n",
       " ('2-Hour serum insulin (mu U/ml)', -0.066688668954090022),\n",
       " ('Body mass index (weight in kg/(height in m)^2)', 0.78459158941755069),\n",
       " ('Diabetes pedigree function', 0.36816807573450505),\n",
       " ('Age (years)', 0.16647651886995155)]"
      ]
     },
     "execution_count": 358,
     "metadata": {},
     "output_type": "execute_result"
    }
   ],
   "source": [
    "logreg.fit(X_train_std, y_train)\n",
    "zip(feature_cols, logreg.coef_[0])"
   ]
  },
  {
   "cell_type": "code",
   "execution_count": 359,
   "metadata": {
    "collapsed": false
   },
   "outputs": [],
   "source": [
    "# class predictions (not predicted probabilities)\n",
    "y_pred_class = logreg.predict(X_test_std)"
   ]
  },
  {
   "cell_type": "code",
   "execution_count": 360,
   "metadata": {
    "collapsed": false
   },
   "outputs": [
    {
     "name": "stdout",
     "output_type": "stream",
     "text": [
      "0.765625\n"
     ]
    }
   ],
   "source": [
    "# calculate classification accuracy\n",
    "from sklearn import metrics\n",
    "print metrics.accuracy_score(y_test, y_pred_class)"
   ]
  },
  {
   "cell_type": "code",
   "execution_count": 361,
   "metadata": {
    "collapsed": false
   },
   "outputs": [
    {
     "data": {
      "text/plain": [
       "{'C': 1010.1010199999999, 'class_weight': None}"
      ]
     },
     "execution_count": 361,
     "metadata": {},
     "output_type": "execute_result"
    }
   ],
   "source": [
    "clf.best_params_"
   ]
  },
  {
   "cell_type": "code",
   "execution_count": 362,
   "metadata": {
    "collapsed": false
   },
   "outputs": [
    {
     "data": {
      "text/plain": [
       "0.7817391304347826"
      ]
     },
     "execution_count": 362,
     "metadata": {},
     "output_type": "execute_result"
    }
   ],
   "source": [
    "clf.best_score_"
   ]
  },
  {
   "cell_type": "code",
   "execution_count": 363,
   "metadata": {
    "collapsed": true
   },
   "outputs": [],
   "source": [
    "best_log = clf.best_estimator_"
   ]
  },
  {
   "cell_type": "code",
   "execution_count": 364,
   "metadata": {
    "collapsed": false
   },
   "outputs": [
    {
     "data": {
      "image/png": "[encoded data removed]",
      "text/plain": [
       "<matplotlib.figure.Figure at 0x10b78f390>"
      ]
     },
     "metadata": {},
     "output_type": "display_data"
    }
   ],
   "source": [
    "%matplotlib inline\n",
    "plot_learning_curve(best_log, 'Learning Curve for LogReg', X_train_std, y_train, cv=cv);"
   ]
  },
  {
   "cell_type": "code",
   "execution_count": 365,
   "metadata": {
    "collapsed": false
   },
   "outputs": [
    {
     "data": {
      "text/plain": [
       "0.765625"
      ]
     },
     "execution_count": 365,
     "metadata": {},
     "output_type": "execute_result"
    }
   ],
   "source": [
    "best_log.score(X_test_std, y_test)"
   ]
  },
  {
   "cell_type": "code",
   "execution_count": 366,
   "metadata": {
    "collapsed": false
   },
   "outputs": [
    {
     "name": "stdout",
     "output_type": "stream",
     "text": [
      "The slowest run took 5.92 times longer than the fastest. This could mean that an intermediate result is being cached \n",
      "10000 loops, best of 3: 31.9 µs per loop\n"
     ]
    }
   ],
   "source": [
    "%timeit best_log.predict(X_test_std)"
   ]
  },
  {
   "cell_type": "code",
   "execution_count": 367,
   "metadata": {
    "collapsed": false
   },
   "outputs": [
    {
     "data": {
      "text/plain": [
       "0    0.666667\n",
       "Name: Diabetes, dtype: float64"
      ]
     },
     "execution_count": 367,
     "metadata": {},
     "output_type": "execute_result"
    }
   ],
   "source": [
    "y_test.value_counts().head(1) / len(y_test)"
   ]
  },
  {
   "cell_type": "code",
   "execution_count": 368,
   "metadata": {
    "collapsed": true
   },
   "outputs": [],
   "source": [
    "# This model predicts ~10% more accurately than if we simply took the majority of the \"successful\" event (diabetes +)\n",
    "# This is decent performance from an accuracy standpoint"
   ]
  },
  {
   "cell_type": "code",
   "execution_count": 369,
   "metadata": {
    "collapsed": true
   },
   "outputs": [],
   "source": [
    "# NAIVE BAYES "
   ]
  },
  {
   "cell_type": "code",
   "execution_count": 370,
   "metadata": {
    "collapsed": true
   },
   "outputs": [],
   "source": [
    "from sklearn.naive_bayes import MultinomialNB\n",
    "from sklearn.grid_search import GridSearchCV\n",
    "from sklearn.cross_validation import KFold, cross_val_score\n",
    "from sklearn.feature_extraction.text import CountVectorizer"
   ]
  },
  {
   "cell_type": "code",
   "execution_count": 371,
   "metadata": {
    "collapsed": true
   },
   "outputs": [],
   "source": [
    "# Naive Bayes won't work well in this instance as it is not ok to assume that the features \n",
    "# are all independent of each other\n",
    "# Having issues implementing NB due to Count Vectorizer-- Want to use pd.categorical instead but not sure if it would\n",
    "# suffice"
   ]
  },
  {
   "cell_type": "code",
   "execution_count": 372,
   "metadata": {
    "collapsed": true
   },
   "outputs": [],
   "source": [
    "# Random Forest\n",
    "from sklearn.ensemble import RandomForestClassifier"
   ]
  },
  {
   "cell_type": "code",
   "execution_count": 373,
   "metadata": {
    "collapsed": false
   },
   "outputs": [],
   "source": [
    "model = RandomForestClassifier(n_estimators=200)\n",
    "\n",
    "# Continue to add features to X\n",
    "#     Build dummy features, include quantitative features, or add text features\n",
    "X = data[['Number of times pregnant', \n",
    "    'Plasma glucose concentration a 2 hours in an oral glucose tolerance test',\n",
    "    'Diastolic blood pressure mm Hg',\n",
    "    'Triceps skin fold thickness (mm)',\n",
    "    '2-Hour serum insulin (mu U/ml)',\n",
    "    'Body mass index (weight in kg/(height in m)^2)',\n",
    "    'Diabetes pedigree function',\n",
    "    'Age (years)',\n",
    "    'Diabetes']].dropna()\n",
    "\n",
    "y = X['Diabetes']\n",
    "\n",
    "X.drop('Diabetes', axis=1, inplace=True)\n"
   ]
  },
  {
   "cell_type": "code",
   "execution_count": 374,
   "metadata": {
    "collapsed": false
   },
   "outputs": [
    {
     "name": "stdout",
     "output_type": "stream",
     "text": [
      "CV accuracy [ 0.73828125  0.75390625  0.79607843], Average accuracy 0.762755310458\n"
     ]
    }
   ],
   "source": [
    "scores = cross_val_score(model, X, y, scoring='accuracy')\n",
    "print('CV accuracy {}, Average accuracy {}'.format(scores, scores.mean()))"
   ]
  },
  {
   "cell_type": "code",
   "execution_count": 375,
   "metadata": {
    "collapsed": false
   },
   "outputs": [
    {
     "data": {
      "text/html": [
       "<div>\n",
       "<table border=\"1\" class=\"dataframe\">\n",
       "  <thead>\n",
       "    <tr style=\"text-align: right;\">\n",
       "      <th></th>\n",
       "      <th>Features</th>\n",
       "      <th>Importance Score</th>\n",
       "    </tr>\n",
       "  </thead>\n",
       "  <tbody>\n",
       "    <tr>\n",
       "      <th>1</th>\n",
       "      <td>Plasma glucose concentration a 2 hours in an o...</td>\n",
       "      <td>0.264130</td>\n",
       "    </tr>\n",
       "    <tr>\n",
       "      <th>5</th>\n",
       "      <td>Body mass index (weight in kg/(height in m)^2)</td>\n",
       "      <td>0.162319</td>\n",
       "    </tr>\n",
       "    <tr>\n",
       "      <th>7</th>\n",
       "      <td>Age (years)</td>\n",
       "      <td>0.138791</td>\n",
       "    </tr>\n",
       "    <tr>\n",
       "      <th>6</th>\n",
       "      <td>Diabetes pedigree function</td>\n",
       "      <td>0.125592</td>\n",
       "    </tr>\n",
       "    <tr>\n",
       "      <th>2</th>\n",
       "      <td>Diastolic blood pressure mm Hg</td>\n",
       "      <td>0.089088</td>\n",
       "    </tr>\n",
       "  </tbody>\n",
       "</table>\n",
       "</div>"
      ],
      "text/plain": [
       "                                            Features  Importance Score\n",
       "1  Plasma glucose concentration a 2 hours in an o...          0.264130\n",
       "5     Body mass index (weight in kg/(height in m)^2)          0.162319\n",
       "7                                        Age (years)          0.138791\n",
       "6                         Diabetes pedigree function          0.125592\n",
       "2                     Diastolic blood pressure mm Hg          0.089088"
      ]
     },
     "execution_count": 375,
     "metadata": {},
     "output_type": "execute_result"
    }
   ],
   "source": [
    "model.fit(X, y)\n",
    "\n",
    "# Get columns and their scores\n",
    "features = X.columns\n",
    "feature_importances = model.feature_importances_\n",
    "features_df = pd.DataFrame({'Features': features, 'Importance Score': feature_importances})\n",
    "features_df.sort_values('Importance Score', inplace=True, ascending=False)\n",
    "\n",
    "features_df.head()"
   ]
  },
  {
   "cell_type": "code",
   "execution_count": 376,
   "metadata": {
    "collapsed": false
   },
   "outputs": [
    {
     "name": "stdout",
     "output_type": "stream",
     "text": [
      "100 loops, best of 3: 8.97 ms per loop\n"
     ]
    }
   ],
   "source": [
    "%timeit model.predict(X_test_std)"
   ]
  },
  {
   "cell_type": "code",
   "execution_count": 377,
   "metadata": {
    "collapsed": true
   },
   "outputs": [],
   "source": [
    "# I feel like I'm missing a lot of insight here since I didn't drop the zeroes. However based on what I have, there was\n",
    "# similar performance for LOGREG, KNN, and RF all performing around 10% more accurately on the \n",
    "# test set than simply finding the percentage of Diabetes positive test subjects. In terms of timing, LOGREG was fastest\n",
    "# at some microseconds, KNN in second at 2 milliseconds, and a distant 3rd was Random Forest at 9 milliseconds. RF did\n",
    "# have a best accuracy of 80% although the average fell close to the average performance of the others.\n",
    "# KNN overfit the training data by memorizing and therefore may not be a good predictor for future data though it\n",
    "# performed decently on this test set. \n"
   ]
  }
 ],
 "metadata": {
  "kernelspec": {
   "display_name": "Python 2",
   "language": "python",
   "name": "python2"
  },
  "language_info": {
   "codemirror_mode": {
    "name": "ipython",
    "version": 2
   },
   "file_extension": ".py",
   "mimetype": "text/x-python",
   "name": "python",
   "nbconvert_exporter": "python",
   "pygments_lexer": "ipython2",
   "version": "2.7.10"
  }
 },
 "nbformat": 4,
 "nbformat_minor": 0
}
