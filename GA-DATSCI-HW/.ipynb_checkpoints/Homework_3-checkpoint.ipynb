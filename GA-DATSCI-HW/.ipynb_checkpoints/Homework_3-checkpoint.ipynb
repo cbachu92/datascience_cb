{
 "cells": [
  {
   "cell_type": "code",
   "execution_count": 73,
   "metadata": {
    "collapsed": false
   },
   "outputs": [],
   "source": [
    "import pandas as pd\n",
    "import numpy as np\n",
    "import matplotlib.pyplot as plt\n",
    "%matplotlib inline\n",
    "from sklearn.learning_curve import learning_curve\n",
    "from sklearn.grid_search import GridSearchCV\n",
    "from sklearn.linear_model import LogisticRegression\n",
    "from sklearn.preprocessing import StandardScaler\n",
    "from sklearn.cluster import KMeans"
   ]
  },
  {
   "cell_type": "code",
   "execution_count": 74,
   "metadata": {
    "collapsed": false
   },
   "outputs": [],
   "source": [
    "data=pd.read_csv('https://archive.ics.uci.edu/ml/machine-learning-databases/pima-indians-diabetes/pima-indians-diabetes.data', \n",
    "    names=[\n",
    "    'Number of times pregnant', \n",
    "    'Plasma glucose concentration a 2 hours in an oral glucose tolerance test',\n",
    "    'Diastolic blood pressure mm Hg',\n",
    "    'Triceps skin fold thickness (mm)',\n",
    "    '2-Hour serum insulin (mu U/ml)',\n",
    "    'Body mass index (weight in kg/(height in m)^2)',\n",
    "    'Diabetes pedigree function',\n",
    "    'Age (years)',\n",
    "    'Diabetes'], header=0)"
   ]
  },
  {
   "cell_type": "code",
   "execution_count": 75,
   "metadata": {
    "collapsed": false
   },
   "outputs": [
    {
     "data": {
      "text/html": [
       "<div>\n",
       "<table border=\"1\" class=\"dataframe\">\n",
       "  <thead>\n",
       "    <tr style=\"text-align: right;\">\n",
       "      <th></th>\n",
       "      <th>Number of times pregnant</th>\n",
       "      <th>Plasma glucose concentration a 2 hours in an oral glucose tolerance test</th>\n",
       "      <th>Diastolic blood pressure mm Hg</th>\n",
       "      <th>Triceps skin fold thickness (mm)</th>\n",
       "      <th>2-Hour serum insulin (mu U/ml)</th>\n",
       "      <th>Body mass index (weight in kg/(height in m)^2)</th>\n",
       "      <th>Diabetes pedigree function</th>\n",
       "      <th>Age (years)</th>\n",
       "      <th>Diabetes</th>\n",
       "    </tr>\n",
       "  </thead>\n",
       "  <tbody>\n",
       "    <tr>\n",
       "      <th>0</th>\n",
       "      <td>1</td>\n",
       "      <td>85</td>\n",
       "      <td>66</td>\n",
       "      <td>29</td>\n",
       "      <td>0</td>\n",
       "      <td>26.600</td>\n",
       "      <td>0.351</td>\n",
       "      <td>31</td>\n",
       "      <td>0</td>\n",
       "    </tr>\n",
       "    <tr>\n",
       "      <th>1</th>\n",
       "      <td>8</td>\n",
       "      <td>183</td>\n",
       "      <td>64</td>\n",
       "      <td>0</td>\n",
       "      <td>0</td>\n",
       "      <td>23.300</td>\n",
       "      <td>0.672</td>\n",
       "      <td>32</td>\n",
       "      <td>1</td>\n",
       "    </tr>\n",
       "    <tr>\n",
       "      <th>2</th>\n",
       "      <td>1</td>\n",
       "      <td>89</td>\n",
       "      <td>66</td>\n",
       "      <td>23</td>\n",
       "      <td>94</td>\n",
       "      <td>28.100</td>\n",
       "      <td>0.167</td>\n",
       "      <td>21</td>\n",
       "      <td>0</td>\n",
       "    </tr>\n",
       "    <tr>\n",
       "      <th>3</th>\n",
       "      <td>0</td>\n",
       "      <td>137</td>\n",
       "      <td>40</td>\n",
       "      <td>35</td>\n",
       "      <td>168</td>\n",
       "      <td>43.100</td>\n",
       "      <td>2.288</td>\n",
       "      <td>33</td>\n",
       "      <td>1</td>\n",
       "    </tr>\n",
       "    <tr>\n",
       "      <th>4</th>\n",
       "      <td>5</td>\n",
       "      <td>116</td>\n",
       "      <td>74</td>\n",
       "      <td>0</td>\n",
       "      <td>0</td>\n",
       "      <td>25.600</td>\n",
       "      <td>0.201</td>\n",
       "      <td>30</td>\n",
       "      <td>0</td>\n",
       "    </tr>\n",
       "  </tbody>\n",
       "</table>\n",
       "</div>"
      ],
      "text/plain": [
       "   Number of times pregnant  \\\n",
       "0                         1   \n",
       "1                         8   \n",
       "2                         1   \n",
       "3                         0   \n",
       "4                         5   \n",
       "\n",
       "   Plasma glucose concentration a 2 hours in an oral glucose tolerance test  \\\n",
       "0                                                 85                          \n",
       "1                                                183                          \n",
       "2                                                 89                          \n",
       "3                                                137                          \n",
       "4                                                116                          \n",
       "\n",
       "   Diastolic blood pressure mm Hg  Triceps skin fold thickness (mm)  \\\n",
       "0                              66                                29   \n",
       "1                              64                                 0   \n",
       "2                              66                                23   \n",
       "3                              40                                35   \n",
       "4                              74                                 0   \n",
       "\n",
       "   2-Hour serum insulin (mu U/ml)  \\\n",
       "0                               0   \n",
       "1                               0   \n",
       "2                              94   \n",
       "3                             168   \n",
       "4                               0   \n",
       "\n",
       "   Body mass index (weight in kg/(height in m)^2)  Diabetes pedigree function  \\\n",
       "0                                          26.600                       0.351   \n",
       "1                                          23.300                       0.672   \n",
       "2                                          28.100                       0.167   \n",
       "3                                          43.100                       2.288   \n",
       "4                                          25.600                       0.201   \n",
       "\n",
       "   Age (years)  Diabetes  \n",
       "0           31         0  \n",
       "1           32         1  \n",
       "2           21         0  \n",
       "3           33         1  \n",
       "4           30         0  "
      ]
     },
     "execution_count": 75,
     "metadata": {},
     "output_type": "execute_result"
    }
   ],
   "source": [
    "data.head()"
   ]
  },
  {
   "cell_type": "code",
   "execution_count": 76,
   "metadata": {
    "collapsed": false
   },
   "outputs": [
    {
     "data": {
      "text/html": [
       "<div>\n",
       "<table border=\"1\" class=\"dataframe\">\n",
       "  <thead>\n",
       "    <tr style=\"text-align: right;\">\n",
       "      <th></th>\n",
       "      <th>Number of times pregnant</th>\n",
       "      <th>Plasma glucose concentration a 2 hours in an oral glucose tolerance test</th>\n",
       "      <th>Diastolic blood pressure mm Hg</th>\n",
       "      <th>Triceps skin fold thickness (mm)</th>\n",
       "      <th>2-Hour serum insulin (mu U/ml)</th>\n",
       "      <th>Body mass index (weight in kg/(height in m)^2)</th>\n",
       "      <th>Diabetes pedigree function</th>\n",
       "      <th>Age (years)</th>\n",
       "      <th>Diabetes</th>\n",
       "    </tr>\n",
       "  </thead>\n",
       "  <tbody>\n",
       "    <tr>\n",
       "      <th>Number of times pregnant</th>\n",
       "      <td>1.000</td>\n",
       "      <td>0.129</td>\n",
       "      <td>0.141</td>\n",
       "      <td>-0.082</td>\n",
       "      <td>-0.073</td>\n",
       "      <td>0.018</td>\n",
       "      <td>-0.034</td>\n",
       "      <td>0.544</td>\n",
       "      <td>0.221</td>\n",
       "    </tr>\n",
       "    <tr>\n",
       "      <th>Plasma glucose concentration a 2 hours in an oral glucose tolerance test</th>\n",
       "      <td>0.129</td>\n",
       "      <td>1.000</td>\n",
       "      <td>0.152</td>\n",
       "      <td>0.056</td>\n",
       "      <td>0.332</td>\n",
       "      <td>0.221</td>\n",
       "      <td>0.137</td>\n",
       "      <td>0.262</td>\n",
       "      <td>0.466</td>\n",
       "    </tr>\n",
       "    <tr>\n",
       "      <th>Diastolic blood pressure mm Hg</th>\n",
       "      <td>0.141</td>\n",
       "      <td>0.152</td>\n",
       "      <td>1.000</td>\n",
       "      <td>0.207</td>\n",
       "      <td>0.089</td>\n",
       "      <td>0.282</td>\n",
       "      <td>0.041</td>\n",
       "      <td>0.240</td>\n",
       "      <td>0.065</td>\n",
       "    </tr>\n",
       "    <tr>\n",
       "      <th>Triceps skin fold thickness (mm)</th>\n",
       "      <td>-0.082</td>\n",
       "      <td>0.056</td>\n",
       "      <td>0.207</td>\n",
       "      <td>1.000</td>\n",
       "      <td>0.438</td>\n",
       "      <td>0.393</td>\n",
       "      <td>0.183</td>\n",
       "      <td>-0.116</td>\n",
       "      <td>0.073</td>\n",
       "    </tr>\n",
       "    <tr>\n",
       "      <th>2-Hour serum insulin (mu U/ml)</th>\n",
       "      <td>-0.073</td>\n",
       "      <td>0.332</td>\n",
       "      <td>0.089</td>\n",
       "      <td>0.438</td>\n",
       "      <td>1.000</td>\n",
       "      <td>0.198</td>\n",
       "      <td>0.186</td>\n",
       "      <td>-0.041</td>\n",
       "      <td>0.132</td>\n",
       "    </tr>\n",
       "    <tr>\n",
       "      <th>Body mass index (weight in kg/(height in m)^2)</th>\n",
       "      <td>0.018</td>\n",
       "      <td>0.221</td>\n",
       "      <td>0.282</td>\n",
       "      <td>0.393</td>\n",
       "      <td>0.198</td>\n",
       "      <td>1.000</td>\n",
       "      <td>0.141</td>\n",
       "      <td>0.036</td>\n",
       "      <td>0.293</td>\n",
       "    </tr>\n",
       "    <tr>\n",
       "      <th>Diabetes pedigree function</th>\n",
       "      <td>-0.034</td>\n",
       "      <td>0.137</td>\n",
       "      <td>0.041</td>\n",
       "      <td>0.183</td>\n",
       "      <td>0.186</td>\n",
       "      <td>0.141</td>\n",
       "      <td>1.000</td>\n",
       "      <td>0.033</td>\n",
       "      <td>0.173</td>\n",
       "    </tr>\n",
       "    <tr>\n",
       "      <th>Age (years)</th>\n",
       "      <td>0.544</td>\n",
       "      <td>0.262</td>\n",
       "      <td>0.240</td>\n",
       "      <td>-0.116</td>\n",
       "      <td>-0.041</td>\n",
       "      <td>0.036</td>\n",
       "      <td>0.033</td>\n",
       "      <td>1.000</td>\n",
       "      <td>0.236</td>\n",
       "    </tr>\n",
       "    <tr>\n",
       "      <th>Diabetes</th>\n",
       "      <td>0.221</td>\n",
       "      <td>0.466</td>\n",
       "      <td>0.065</td>\n",
       "      <td>0.073</td>\n",
       "      <td>0.132</td>\n",
       "      <td>0.293</td>\n",
       "      <td>0.173</td>\n",
       "      <td>0.236</td>\n",
       "      <td>1.000</td>\n",
       "    </tr>\n",
       "  </tbody>\n",
       "</table>\n",
       "</div>"
      ],
      "text/plain": [
       "                                                    Number of times pregnant  \\\n",
       "Number of times pregnant                                               1.000   \n",
       "Plasma glucose concentration a 2 hours in an or...                     0.129   \n",
       "Diastolic blood pressure mm Hg                                         0.141   \n",
       "Triceps skin fold thickness (mm)                                      -0.082   \n",
       "2-Hour serum insulin (mu U/ml)                                        -0.073   \n",
       "Body mass index (weight in kg/(height in m)^2)                         0.018   \n",
       "Diabetes pedigree function                                            -0.034   \n",
       "Age (years)                                                            0.544   \n",
       "Diabetes                                                               0.221   \n",
       "\n",
       "                                                    Plasma glucose concentration a 2 hours in an oral glucose tolerance test  \\\n",
       "Number of times pregnant                                                                        0.129                          \n",
       "Plasma glucose concentration a 2 hours in an or...                                              1.000                          \n",
       "Diastolic blood pressure mm Hg                                                                  0.152                          \n",
       "Triceps skin fold thickness (mm)                                                                0.056                          \n",
       "2-Hour serum insulin (mu U/ml)                                                                  0.332                          \n",
       "Body mass index (weight in kg/(height in m)^2)                                                  0.221                          \n",
       "Diabetes pedigree function                                                                      0.137                          \n",
       "Age (years)                                                                                     0.262                          \n",
       "Diabetes                                                                                        0.466                          \n",
       "\n",
       "                                                    Diastolic blood pressure mm Hg  \\\n",
       "Number of times pregnant                                                     0.141   \n",
       "Plasma glucose concentration a 2 hours in an or...                           0.152   \n",
       "Diastolic blood pressure mm Hg                                               1.000   \n",
       "Triceps skin fold thickness (mm)                                             0.207   \n",
       "2-Hour serum insulin (mu U/ml)                                               0.089   \n",
       "Body mass index (weight in kg/(height in m)^2)                               0.282   \n",
       "Diabetes pedigree function                                                   0.041   \n",
       "Age (years)                                                                  0.240   \n",
       "Diabetes                                                                     0.065   \n",
       "\n",
       "                                                    Triceps skin fold thickness (mm)  \\\n",
       "Number of times pregnant                                                      -0.082   \n",
       "Plasma glucose concentration a 2 hours in an or...                             0.056   \n",
       "Diastolic blood pressure mm Hg                                                 0.207   \n",
       "Triceps skin fold thickness (mm)                                               1.000   \n",
       "2-Hour serum insulin (mu U/ml)                                                 0.438   \n",
       "Body mass index (weight in kg/(height in m)^2)                                 0.393   \n",
       "Diabetes pedigree function                                                     0.183   \n",
       "Age (years)                                                                   -0.116   \n",
       "Diabetes                                                                       0.073   \n",
       "\n",
       "                                                    2-Hour serum insulin (mu U/ml)  \\\n",
       "Number of times pregnant                                                    -0.073   \n",
       "Plasma glucose concentration a 2 hours in an or...                           0.332   \n",
       "Diastolic blood pressure mm Hg                                               0.089   \n",
       "Triceps skin fold thickness (mm)                                             0.438   \n",
       "2-Hour serum insulin (mu U/ml)                                               1.000   \n",
       "Body mass index (weight in kg/(height in m)^2)                               0.198   \n",
       "Diabetes pedigree function                                                   0.186   \n",
       "Age (years)                                                                 -0.041   \n",
       "Diabetes                                                                     0.132   \n",
       "\n",
       "                                                    Body mass index (weight in kg/(height in m)^2)  \\\n",
       "Number of times pregnant                                                                     0.018   \n",
       "Plasma glucose concentration a 2 hours in an or...                                           0.221   \n",
       "Diastolic blood pressure mm Hg                                                               0.282   \n",
       "Triceps skin fold thickness (mm)                                                             0.393   \n",
       "2-Hour serum insulin (mu U/ml)                                                               0.198   \n",
       "Body mass index (weight in kg/(height in m)^2)                                               1.000   \n",
       "Diabetes pedigree function                                                                   0.141   \n",
       "Age (years)                                                                                  0.036   \n",
       "Diabetes                                                                                     0.293   \n",
       "\n",
       "                                                    Diabetes pedigree function  \\\n",
       "Number of times pregnant                                                -0.034   \n",
       "Plasma glucose concentration a 2 hours in an or...                       0.137   \n",
       "Diastolic blood pressure mm Hg                                           0.041   \n",
       "Triceps skin fold thickness (mm)                                         0.183   \n",
       "2-Hour serum insulin (mu U/ml)                                           0.186   \n",
       "Body mass index (weight in kg/(height in m)^2)                           0.141   \n",
       "Diabetes pedigree function                                               1.000   \n",
       "Age (years)                                                              0.033   \n",
       "Diabetes                                                                 0.173   \n",
       "\n",
       "                                                    Age (years)  Diabetes  \n",
       "Number of times pregnant                                  0.544     0.221  \n",
       "Plasma glucose concentration a 2 hours in an or...        0.262     0.466  \n",
       "Diastolic blood pressure mm Hg                            0.240     0.065  \n",
       "Triceps skin fold thickness (mm)                         -0.116     0.073  \n",
       "2-Hour serum insulin (mu U/ml)                           -0.041     0.132  \n",
       "Body mass index (weight in kg/(height in m)^2)            0.036     0.293  \n",
       "Diabetes pedigree function                                0.033     0.173  \n",
       "Age (years)                                               1.000     0.236  \n",
       "Diabetes                                                  0.236     1.000  "
      ]
     },
     "execution_count": 76,
     "metadata": {},
     "output_type": "execute_result"
    }
   ],
   "source": [
    "data.corr()\n",
    "# All the correlations are fairly low which can immediately rule out "
   ]
  },
  {
   "cell_type": "code",
   "execution_count": 77,
   "metadata": {
    "collapsed": false
   },
   "outputs": [
    {
     "name": "stdout",
     "output_type": "stream",
     "text": [
      "<class 'pandas.core.frame.DataFrame'>\n",
      "Int64Index: 767 entries, 0 to 766\n",
      "Data columns (total 9 columns):\n",
      "Number of times pregnant                                                    767 non-null int64\n",
      "Plasma glucose concentration a 2 hours in an oral glucose tolerance test    767 non-null int64\n",
      "Diastolic blood pressure mm Hg                                              767 non-null int64\n",
      "Triceps skin fold thickness (mm)                                            767 non-null int64\n",
      "2-Hour serum insulin (mu U/ml)                                              767 non-null int64\n",
      "Body mass index (weight in kg/(height in m)^2)                              767 non-null float64\n",
      "Diabetes pedigree function                                                  767 non-null float64\n",
      "Age (years)                                                                 767 non-null int64\n",
      "Diabetes                                                                    767 non-null int64\n",
      "dtypes: float64(2), int64(7)\n",
      "memory usage: 59.9 KB\n"
     ]
    }
   ],
   "source": [
    "data.info()"
   ]
  },
  {
   "cell_type": "code",
   "execution_count": 78,
   "metadata": {
    "collapsed": false
   },
   "outputs": [
    {
     "data": {
      "text/html": [
       "<div>\n",
       "<table border=\"1\" class=\"dataframe\">\n",
       "  <thead>\n",
       "    <tr style=\"text-align: right;\">\n",
       "      <th></th>\n",
       "      <th>Number of times pregnant</th>\n",
       "      <th>Plasma glucose concentration a 2 hours in an oral glucose tolerance test</th>\n",
       "      <th>Diastolic blood pressure mm Hg</th>\n",
       "      <th>Triceps skin fold thickness (mm)</th>\n",
       "      <th>2-Hour serum insulin (mu U/ml)</th>\n",
       "      <th>Body mass index (weight in kg/(height in m)^2)</th>\n",
       "      <th>Diabetes pedigree function</th>\n",
       "      <th>Age (years)</th>\n",
       "      <th>Diabetes</th>\n",
       "    </tr>\n",
       "  </thead>\n",
       "  <tbody>\n",
       "    <tr>\n",
       "      <th>count</th>\n",
       "      <td>767.000</td>\n",
       "      <td>767.000</td>\n",
       "      <td>767.000</td>\n",
       "      <td>767.000</td>\n",
       "      <td>767.000</td>\n",
       "      <td>767.000</td>\n",
       "      <td>767.000</td>\n",
       "      <td>767.000</td>\n",
       "      <td>767.000</td>\n",
       "    </tr>\n",
       "    <tr>\n",
       "      <th>mean</th>\n",
       "      <td>3.842</td>\n",
       "      <td>120.859</td>\n",
       "      <td>69.102</td>\n",
       "      <td>20.518</td>\n",
       "      <td>79.904</td>\n",
       "      <td>31.990</td>\n",
       "      <td>0.472</td>\n",
       "      <td>33.219</td>\n",
       "      <td>0.348</td>\n",
       "    </tr>\n",
       "    <tr>\n",
       "      <th>std</th>\n",
       "      <td>3.371</td>\n",
       "      <td>31.978</td>\n",
       "      <td>19.368</td>\n",
       "      <td>15.954</td>\n",
       "      <td>115.283</td>\n",
       "      <td>7.889</td>\n",
       "      <td>0.331</td>\n",
       "      <td>11.752</td>\n",
       "      <td>0.477</td>\n",
       "    </tr>\n",
       "    <tr>\n",
       "      <th>min</th>\n",
       "      <td>0.000</td>\n",
       "      <td>0.000</td>\n",
       "      <td>0.000</td>\n",
       "      <td>0.000</td>\n",
       "      <td>0.000</td>\n",
       "      <td>0.000</td>\n",
       "      <td>0.078</td>\n",
       "      <td>21.000</td>\n",
       "      <td>0.000</td>\n",
       "    </tr>\n",
       "    <tr>\n",
       "      <th>25%</th>\n",
       "      <td>1.000</td>\n",
       "      <td>99.000</td>\n",
       "      <td>62.000</td>\n",
       "      <td>0.000</td>\n",
       "      <td>0.000</td>\n",
       "      <td>27.300</td>\n",
       "      <td>0.243</td>\n",
       "      <td>24.000</td>\n",
       "      <td>0.000</td>\n",
       "    </tr>\n",
       "    <tr>\n",
       "      <th>50%</th>\n",
       "      <td>3.000</td>\n",
       "      <td>117.000</td>\n",
       "      <td>72.000</td>\n",
       "      <td>23.000</td>\n",
       "      <td>32.000</td>\n",
       "      <td>32.000</td>\n",
       "      <td>0.371</td>\n",
       "      <td>29.000</td>\n",
       "      <td>0.000</td>\n",
       "    </tr>\n",
       "    <tr>\n",
       "      <th>75%</th>\n",
       "      <td>6.000</td>\n",
       "      <td>140.000</td>\n",
       "      <td>80.000</td>\n",
       "      <td>32.000</td>\n",
       "      <td>127.500</td>\n",
       "      <td>36.600</td>\n",
       "      <td>0.625</td>\n",
       "      <td>41.000</td>\n",
       "      <td>1.000</td>\n",
       "    </tr>\n",
       "    <tr>\n",
       "      <th>max</th>\n",
       "      <td>17.000</td>\n",
       "      <td>199.000</td>\n",
       "      <td>122.000</td>\n",
       "      <td>99.000</td>\n",
       "      <td>846.000</td>\n",
       "      <td>67.100</td>\n",
       "      <td>2.420</td>\n",
       "      <td>81.000</td>\n",
       "      <td>1.000</td>\n",
       "    </tr>\n",
       "  </tbody>\n",
       "</table>\n",
       "</div>"
      ],
      "text/plain": [
       "       Number of times pregnant  \\\n",
       "count                   767.000   \n",
       "mean                      3.842   \n",
       "std                       3.371   \n",
       "min                       0.000   \n",
       "25%                       1.000   \n",
       "50%                       3.000   \n",
       "75%                       6.000   \n",
       "max                      17.000   \n",
       "\n",
       "       Plasma glucose concentration a 2 hours in an oral glucose tolerance test  \\\n",
       "count                                            767.000                          \n",
       "mean                                             120.859                          \n",
       "std                                               31.978                          \n",
       "min                                                0.000                          \n",
       "25%                                               99.000                          \n",
       "50%                                              117.000                          \n",
       "75%                                              140.000                          \n",
       "max                                              199.000                          \n",
       "\n",
       "       Diastolic blood pressure mm Hg  Triceps skin fold thickness (mm)  \\\n",
       "count                         767.000                           767.000   \n",
       "mean                           69.102                            20.518   \n",
       "std                            19.368                            15.954   \n",
       "min                             0.000                             0.000   \n",
       "25%                            62.000                             0.000   \n",
       "50%                            72.000                            23.000   \n",
       "75%                            80.000                            32.000   \n",
       "max                           122.000                            99.000   \n",
       "\n",
       "       2-Hour serum insulin (mu U/ml)  \\\n",
       "count                         767.000   \n",
       "mean                           79.904   \n",
       "std                           115.283   \n",
       "min                             0.000   \n",
       "25%                             0.000   \n",
       "50%                            32.000   \n",
       "75%                           127.500   \n",
       "max                           846.000   \n",
       "\n",
       "       Body mass index (weight in kg/(height in m)^2)  \\\n",
       "count                                         767.000   \n",
       "mean                                           31.990   \n",
       "std                                             7.889   \n",
       "min                                             0.000   \n",
       "25%                                            27.300   \n",
       "50%                                            32.000   \n",
       "75%                                            36.600   \n",
       "max                                            67.100   \n",
       "\n",
       "       Diabetes pedigree function  Age (years)  Diabetes  \n",
       "count                     767.000      767.000   767.000  \n",
       "mean                        0.472       33.219     0.348  \n",
       "std                         0.331       11.752     0.477  \n",
       "min                         0.078       21.000     0.000  \n",
       "25%                         0.243       24.000     0.000  \n",
       "50%                         0.371       29.000     0.000  \n",
       "75%                         0.625       41.000     1.000  \n",
       "max                         2.420       81.000     1.000  "
      ]
     },
     "execution_count": 78,
     "metadata": {},
     "output_type": "execute_result"
    }
   ],
   "source": [
    "data.describe()"
   ]
  },
  {
   "cell_type": "code",
   "execution_count": 79,
   "metadata": {
    "collapsed": true
   },
   "outputs": [],
   "source": [
    "#Dataset Description, Goals, and Hypothesis\n",
    "\n",
    "# The dataset is trying to predict Diabetes in a population of 767 Pima Indians based on 8 already existing, measured\n",
    "# features. Therefore we are categorizing into two groups, diabetic or non-diabetic. There is a quite low correlation \n",
    "# between features so KNN is may be worth a try because of this though it may be prone to overfitting.\n",
    "# (This may be because zeros are not taken care of yet, but for now assuming these correlation values will stand)  \n",
    "# Naive Bayes may perform well in terms of accuracy since these features have low correlation AKA independence,\n",
    "# a main assumption of the Naive Bayes algorithm. I know RF will be the slowest particularly because of the low \n",
    "# correlation but I predict accuracy will be high especially when adjustin n_estimators."
   ]
  },
  {
   "cell_type": "code",
   "execution_count": 80,
   "metadata": {
    "collapsed": false
   },
   "outputs": [],
   "source": [
    "#No nulls, but zeros in glucose concentration, BMI, triceps skin fold are not possible AKA they are legitimate errors. \n",
    "# Zero in times pregnant would be fine to assume that the woman never got pregnant. \n",
    "# I know my code is terrible but bear with me --- I will come back to this \n",
    "#data[data['Plasma glucose concentration a 2 hours in an oral glucose tolerance test']==0] = np.nan\n",
    "#data[data['Diastolic blood pressure mm Hg']==0] = np.nan\n",
    "#data[data['Triceps skin fold thickness (mm)']==0] = np.nan\n",
    "#data[data['Body mass index (weight in kg/(height in m)^2)']==0] = np.nan"
   ]
  },
  {
   "cell_type": "code",
   "execution_count": 81,
   "metadata": {
    "collapsed": false
   },
   "outputs": [
    {
     "data": {
      "text/html": [
       "<div>\n",
       "<table border=\"1\" class=\"dataframe\">\n",
       "  <thead>\n",
       "    <tr style=\"text-align: right;\">\n",
       "      <th></th>\n",
       "      <th>Number of times pregnant</th>\n",
       "      <th>Plasma glucose concentration a 2 hours in an oral glucose tolerance test</th>\n",
       "      <th>Diastolic blood pressure mm Hg</th>\n",
       "      <th>Triceps skin fold thickness (mm)</th>\n",
       "      <th>2-Hour serum insulin (mu U/ml)</th>\n",
       "      <th>Body mass index (weight in kg/(height in m)^2)</th>\n",
       "      <th>Diabetes pedigree function</th>\n",
       "      <th>Age (years)</th>\n",
       "      <th>Diabetes</th>\n",
       "    </tr>\n",
       "  </thead>\n",
       "  <tbody>\n",
       "    <tr>\n",
       "      <th>0</th>\n",
       "      <td>1</td>\n",
       "      <td>85</td>\n",
       "      <td>66</td>\n",
       "      <td>29</td>\n",
       "      <td>0</td>\n",
       "      <td>26.600</td>\n",
       "      <td>0.351</td>\n",
       "      <td>31</td>\n",
       "      <td>0</td>\n",
       "    </tr>\n",
       "    <tr>\n",
       "      <th>1</th>\n",
       "      <td>8</td>\n",
       "      <td>183</td>\n",
       "      <td>64</td>\n",
       "      <td>0</td>\n",
       "      <td>0</td>\n",
       "      <td>23.300</td>\n",
       "      <td>0.672</td>\n",
       "      <td>32</td>\n",
       "      <td>1</td>\n",
       "    </tr>\n",
       "    <tr>\n",
       "      <th>2</th>\n",
       "      <td>1</td>\n",
       "      <td>89</td>\n",
       "      <td>66</td>\n",
       "      <td>23</td>\n",
       "      <td>94</td>\n",
       "      <td>28.100</td>\n",
       "      <td>0.167</td>\n",
       "      <td>21</td>\n",
       "      <td>0</td>\n",
       "    </tr>\n",
       "    <tr>\n",
       "      <th>3</th>\n",
       "      <td>0</td>\n",
       "      <td>137</td>\n",
       "      <td>40</td>\n",
       "      <td>35</td>\n",
       "      <td>168</td>\n",
       "      <td>43.100</td>\n",
       "      <td>2.288</td>\n",
       "      <td>33</td>\n",
       "      <td>1</td>\n",
       "    </tr>\n",
       "    <tr>\n",
       "      <th>4</th>\n",
       "      <td>5</td>\n",
       "      <td>116</td>\n",
       "      <td>74</td>\n",
       "      <td>0</td>\n",
       "      <td>0</td>\n",
       "      <td>25.600</td>\n",
       "      <td>0.201</td>\n",
       "      <td>30</td>\n",
       "      <td>0</td>\n",
       "    </tr>\n",
       "  </tbody>\n",
       "</table>\n",
       "</div>"
      ],
      "text/plain": [
       "   Number of times pregnant  \\\n",
       "0                         1   \n",
       "1                         8   \n",
       "2                         1   \n",
       "3                         0   \n",
       "4                         5   \n",
       "\n",
       "   Plasma glucose concentration a 2 hours in an oral glucose tolerance test  \\\n",
       "0                                                 85                          \n",
       "1                                                183                          \n",
       "2                                                 89                          \n",
       "3                                                137                          \n",
       "4                                                116                          \n",
       "\n",
       "   Diastolic blood pressure mm Hg  Triceps skin fold thickness (mm)  \\\n",
       "0                              66                                29   \n",
       "1                              64                                 0   \n",
       "2                              66                                23   \n",
       "3                              40                                35   \n",
       "4                              74                                 0   \n",
       "\n",
       "   2-Hour serum insulin (mu U/ml)  \\\n",
       "0                               0   \n",
       "1                               0   \n",
       "2                              94   \n",
       "3                             168   \n",
       "4                               0   \n",
       "\n",
       "   Body mass index (weight in kg/(height in m)^2)  Diabetes pedigree function  \\\n",
       "0                                          26.600                       0.351   \n",
       "1                                          23.300                       0.672   \n",
       "2                                          28.100                       0.167   \n",
       "3                                          43.100                       2.288   \n",
       "4                                          25.600                       0.201   \n",
       "\n",
       "   Age (years)  Diabetes  \n",
       "0           31         0  \n",
       "1           32         1  \n",
       "2           21         0  \n",
       "3           33         1  \n",
       "4           30         0  "
      ]
     },
     "execution_count": 81,
     "metadata": {},
     "output_type": "execute_result"
    }
   ],
   "source": [
    "data.head()"
   ]
  },
  {
   "cell_type": "code",
   "execution_count": 82,
   "metadata": {
    "collapsed": true
   },
   "outputs": [],
   "source": [
    "diab_labels = data['Diabetes']\n",
    "diab_X = data.drop('Diabetes', axis=1)"
   ]
  },
  {
   "cell_type": "code",
   "execution_count": 83,
   "metadata": {
    "collapsed": false
   },
   "outputs": [],
   "source": [
    "from sklearn.cross_validation import train_test_split\n",
    "X_train, X_test, y_train, y_test = train_test_split(diab_X, diab_labels, \n",
    "                                                    test_size=0.2, random_state=0)"
   ]
  },
  {
   "cell_type": "code",
   "execution_count": 84,
   "metadata": {
    "collapsed": true
   },
   "outputs": [],
   "source": [
    "from sklearn.cross_validation import ShuffleSplit\n",
    "cv = ShuffleSplit(X_train.shape[0], n_iter=10, test_size=0.2, random_state=0)"
   ]
  },
  {
   "cell_type": "code",
   "execution_count": 85,
   "metadata": {
    "collapsed": true
   },
   "outputs": [],
   "source": [
    "from sklearn.preprocessing import StandardScaler\n",
    "stdsc = StandardScaler()\n",
    "# transform our training features\n",
    "X_train_std = stdsc.fit_transform(X_train)\n",
    "# transform the testing features in the same way\n",
    "X_test_std = stdsc.transform(X_test)"
   ]
  },
  {
   "cell_type": "code",
   "execution_count": 86,
   "metadata": {
    "collapsed": false
   },
   "outputs": [
    {
     "data": {
      "text/html": [
       "<div>\n",
       "<table border=\"1\" class=\"dataframe\">\n",
       "  <thead>\n",
       "    <tr style=\"text-align: right;\">\n",
       "      <th></th>\n",
       "      <th>Number of times pregnant</th>\n",
       "      <th>Plasma glucose concentration a 2 hours in an oral glucose tolerance test</th>\n",
       "      <th>Diastolic blood pressure mm Hg</th>\n",
       "      <th>Triceps skin fold thickness (mm)</th>\n",
       "      <th>2-Hour serum insulin (mu U/ml)</th>\n",
       "      <th>Body mass index (weight in kg/(height in m)^2)</th>\n",
       "      <th>Diabetes pedigree function</th>\n",
       "      <th>Age (years)</th>\n",
       "    </tr>\n",
       "  </thead>\n",
       "  <tbody>\n",
       "    <tr>\n",
       "      <th>0</th>\n",
       "      <td>0.066</td>\n",
       "      <td>1.930</td>\n",
       "      <td>-3.488</td>\n",
       "      <td>-1.308</td>\n",
       "      <td>-0.691</td>\n",
       "      <td>-0.471</td>\n",
       "      <td>-0.766</td>\n",
       "      <td>0.239</td>\n",
       "    </tr>\n",
       "    <tr>\n",
       "      <th>1</th>\n",
       "      <td>0.066</td>\n",
       "      <td>-0.695</td>\n",
       "      <td>0.356</td>\n",
       "      <td>-0.351</td>\n",
       "      <td>-0.242</td>\n",
       "      <td>-1.135</td>\n",
       "      <td>-0.735</td>\n",
       "      <td>-1.048</td>\n",
       "    </tr>\n",
       "    <tr>\n",
       "      <th>2</th>\n",
       "      <td>1.554</td>\n",
       "      <td>0.086</td>\n",
       "      <td>0.052</td>\n",
       "      <td>0.798</td>\n",
       "      <td>2.847</td>\n",
       "      <td>0.424</td>\n",
       "      <td>-0.564</td>\n",
       "      <td>0.068</td>\n",
       "    </tr>\n",
       "    <tr>\n",
       "      <th>3</th>\n",
       "      <td>-0.529</td>\n",
       "      <td>-1.039</td>\n",
       "      <td>0.254</td>\n",
       "      <td>-0.096</td>\n",
       "      <td>-0.224</td>\n",
       "      <td>-0.394</td>\n",
       "      <td>-0.717</td>\n",
       "      <td>-0.962</td>\n",
       "    </tr>\n",
       "    <tr>\n",
       "      <th>4</th>\n",
       "      <td>0.662</td>\n",
       "      <td>1.024</td>\n",
       "      <td>0.457</td>\n",
       "      <td>1.308</td>\n",
       "      <td>0.541</td>\n",
       "      <td>1.792</td>\n",
       "      <td>0.272</td>\n",
       "      <td>-0.533</td>\n",
       "    </tr>\n",
       "  </tbody>\n",
       "</table>\n",
       "</div>"
      ],
      "text/plain": [
       "   Number of times pregnant  \\\n",
       "0                     0.066   \n",
       "1                     0.066   \n",
       "2                     1.554   \n",
       "3                    -0.529   \n",
       "4                     0.662   \n",
       "\n",
       "   Plasma glucose concentration a 2 hours in an oral glucose tolerance test  \\\n",
       "0                                              1.930                          \n",
       "1                                             -0.695                          \n",
       "2                                              0.086                          \n",
       "3                                             -1.039                          \n",
       "4                                              1.024                          \n",
       "\n",
       "   Diastolic blood pressure mm Hg  Triceps skin fold thickness (mm)  \\\n",
       "0                          -3.488                            -1.308   \n",
       "1                           0.356                            -0.351   \n",
       "2                           0.052                             0.798   \n",
       "3                           0.254                            -0.096   \n",
       "4                           0.457                             1.308   \n",
       "\n",
       "   2-Hour serum insulin (mu U/ml)  \\\n",
       "0                          -0.691   \n",
       "1                          -0.242   \n",
       "2                           2.847   \n",
       "3                          -0.224   \n",
       "4                           0.541   \n",
       "\n",
       "   Body mass index (weight in kg/(height in m)^2)  Diabetes pedigree function  \\\n",
       "0                                          -0.471                      -0.766   \n",
       "1                                          -1.135                      -0.735   \n",
       "2                                           0.424                      -0.564   \n",
       "3                                          -0.394                      -0.717   \n",
       "4                                           1.792                       0.272   \n",
       "\n",
       "   Age (years)  \n",
       "0        0.239  \n",
       "1       -1.048  \n",
       "2        0.068  \n",
       "3       -0.962  \n",
       "4       -0.533  "
      ]
     },
     "execution_count": 86,
     "metadata": {},
     "output_type": "execute_result"
    }
   ],
   "source": [
    "pd.DataFrame(X_train_std, columns=X_train.columns).head()"
   ]
  },
  {
   "cell_type": "code",
   "execution_count": null,
   "metadata": {
    "collapsed": true
   },
   "outputs": [],
   "source": [
    "from sklearn.neighbors import KNeighborsClassifier\n",
    "knn = KNeighborsClassifier()"
   ]
  },
  {
   "cell_type": "code",
   "execution_count": null,
   "metadata": {
    "collapsed": false
   },
   "outputs": [],
   "source": [
    "# the parameters we want to search in a dictionary\n",
    "# use the parameter name from sklearn as the key\n",
    "# and the possible values you want to test as the values\n",
    "parameters = {'n_neighbors': range(1,30), 'weights': ['uniform', 'distance'],\n",
    "             'p': range(1,4)}\n",
    "clf = GridSearchCV(knn, parameters, cv=cv)\n",
    "clf.fit(X_train_std, y_train)"
   ]
  },
  {
   "cell_type": "code",
   "execution_count": null,
   "metadata": {
    "collapsed": false
   },
   "outputs": [],
   "source": [
    "clf.best_params_"
   ]
  },
  {
   "cell_type": "code",
   "execution_count": null,
   "metadata": {
    "collapsed": true
   },
   "outputs": [],
   "source": [
    "best_knn = clf.best_estimator_"
   ]
  },
  {
   "cell_type": "code",
   "execution_count": null,
   "metadata": {
    "collapsed": false
   },
   "outputs": [],
   "source": [
    "def plot_learning_curve(estimator, title, X, y, ylim=None, cv=None,\n",
    "                       train_sizes=np.linspace(.2,1.0,10), n_jobs=1):\n",
    "    \"\"\"Create a learning curve to help\n",
    "    us determine if we are overfitting\n",
    "    or underfitting.\n",
    "    \n",
    "    Parameters\n",
    "    ----------\n",
    "    estimator (variable name) : our ML algorithm we want to plot\n",
    "\n",
    "    title (string) : title for our chart\n",
    "\n",
    "    X : our training dataframe\n",
    "\n",
    "    y : our training labels\n",
    "\n",
    "    ylim (tuple): min, max of the score, ie % accuracy\n",
    "\n",
    "    cv (variable name) : pass through for our CV strategy\n",
    "    \n",
    "    train_sizes (list-like) : the increments of % of our training data to use\n",
    "    \"\"\"\n",
    "    \n",
    "    plt.figure()\n",
    "    plt.title(title)\n",
    "    if ylim is not None:\n",
    "        plt.ylim(*ylim)\n",
    "    \n",
    "    plt.xlabel(\"Number of training examples used\")\n",
    "    plt.ylabel(\"Accuracy\")\n",
    "    train_sizes, train_scores, test_scores = learning_curve(\n",
    "        estimator, X, y, cv=cv, n_jobs=n_jobs, train_sizes=train_sizes)\n",
    "    train_scores_mean = np.mean(train_scores, axis=1)\n",
    "    train_scores_std = np.std(train_scores, axis=1)\n",
    "    test_scores_mean = np.mean(test_scores, axis=1)\n",
    "    test_scores_std = np.std(test_scores, axis=1)\n",
    "    plt.grid()\n",
    "\n",
    "    plt.fill_between(train_sizes, train_scores_mean - train_scores_std,\n",
    "                     train_scores_mean + train_scores_std, alpha=0.1,\n",
    "                     color=\"r\")\n",
    "    plt.fill_between(train_sizes, test_scores_mean - test_scores_std,\n",
    "                     test_scores_mean + test_scores_std, alpha=0.1, color=\"g\")\n",
    "    plt.plot(train_sizes, train_scores_mean, 'o-', color=\"r\",\n",
    "             label=\"Training score\")\n",
    "    plt.plot(train_sizes, test_scores_mean, 'o-', color=\"g\",\n",
    "             label=\"Cross-validation score\")\n",
    "\n",
    "    plt.legend(loc=\"best\")\n",
    "    return plt"
   ]
  },
  {
   "cell_type": "code",
   "execution_count": null,
   "metadata": {
    "collapsed": false,
    "scrolled": true
   },
   "outputs": [],
   "source": [
    "plot_learning_curve(best_knn, 'Learning Curve for kNN', X_train_std, y_train, cv=cv, train_sizes=np.linspace(.2,1.0,10), n_jobs=1);"
   ]
  },
  {
   "cell_type": "code",
   "execution_count": null,
   "metadata": {
    "collapsed": false
   },
   "outputs": [],
   "source": [
    "y_test.value_counts().head(1) / len(y_test)"
   ]
  },
  {
   "cell_type": "code",
   "execution_count": null,
   "metadata": {
    "collapsed": false,
    "scrolled": true
   },
   "outputs": [],
   "source": [
    "best_knn.score(X_test_std, y_test)"
   ]
  },
  {
   "cell_type": "code",
   "execution_count": null,
   "metadata": {
    "collapsed": false
   },
   "outputs": [],
   "source": [
    "%timeit best_knn.predict(X_test_std)"
   ]
  },
  {
   "cell_type": "code",
   "execution_count": null,
   "metadata": {
    "collapsed": true
   },
   "outputs": [],
   "source": [
    "#LOGISTIC REGRESSION"
   ]
  },
  {
   "cell_type": "code",
   "execution_count": null,
   "metadata": {
    "collapsed": true
   },
   "outputs": [],
   "source": [
    "feature_cols = ['Number of times pregnant', \n",
    "    'Plasma glucose concentration a 2 hours in an oral glucose tolerance test',\n",
    "    'Diastolic blood pressure mm Hg',\n",
    "    'Triceps skin fold thickness (mm)',\n",
    "    '2-Hour serum insulin (mu U/ml)',\n",
    "    'Body mass index (weight in kg/(height in m)^2)',\n",
    "    'Diabetes pedigree function',\n",
    "    'Age (years)']\n",
    "X = data[feature_cols]\n",
    "y = data['Diabetes']"
   ]
  },
  {
   "cell_type": "code",
   "execution_count": null,
   "metadata": {
    "collapsed": true
   },
   "outputs": [],
   "source": [
    "X_train, X_test, y_train, y_test = train_test_split(X, y, random_state=1)\n",
    "cv = ShuffleSplit(X_train.shape[0], n_iter=10, test_size=0.2, random_state=0)\n",
    "stdsc = StandardScaler()\n",
    "# transform our training features\n",
    "X_train_std = stdsc.fit_transform(X_train)\n",
    "# transform the testing features in the same way\n",
    "X_test_std = stdsc.transform(X_test)"
   ]
  },
  {
   "cell_type": "code",
   "execution_count": null,
   "metadata": {
    "collapsed": false
   },
   "outputs": [],
   "source": [
    "parameters = {'C': np.linspace(1e-5, 1e5, 100), 'class_weight': [None, 'auto']}\n",
    "logreg = LogisticRegression()           \n",
    "clf = GridSearchCV(logreg, parameters, cv=cv)\n",
    "clf.fit(X_train_std, y_train)"
   ]
  },
  {
   "cell_type": "code",
   "execution_count": null,
   "metadata": {
    "collapsed": false
   },
   "outputs": [],
   "source": [
    "logreg.fit(X_train_std, y_train)\n",
    "zip(feature_cols, logreg.coef_[0])"
   ]
  },
  {
   "cell_type": "code",
   "execution_count": null,
   "metadata": {
    "collapsed": false
   },
   "outputs": [],
   "source": [
    "# class predictions (not predicted probabilities)\n",
    "y_pred_class = logreg.predict(X_test_std)"
   ]
  },
  {
   "cell_type": "code",
   "execution_count": null,
   "metadata": {
    "collapsed": false
   },
   "outputs": [],
   "source": [
    "# calculate classification accuracy\n",
    "from sklearn import metrics\n",
    "print metrics.accuracy_score(y_test, y_pred_class)"
   ]
  },
  {
   "cell_type": "code",
   "execution_count": null,
   "metadata": {
    "collapsed": false
   },
   "outputs": [],
   "source": [
    "clf.best_params_"
   ]
  },
  {
   "cell_type": "code",
   "execution_count": null,
   "metadata": {
    "collapsed": false
   },
   "outputs": [],
   "source": [
    "clf.best_score_"
   ]
  },
  {
   "cell_type": "code",
   "execution_count": null,
   "metadata": {
    "collapsed": true
   },
   "outputs": [],
   "source": [
    "best_log = clf.best_estimator_"
   ]
  },
  {
   "cell_type": "code",
   "execution_count": null,
   "metadata": {
    "collapsed": false
   },
   "outputs": [],
   "source": [
    "%matplotlib inline\n",
    "plot_learning_curve(best_log, 'Learning Curve for LogReg', X_train_std, y_train, cv=cv);"
   ]
  },
  {
   "cell_type": "code",
   "execution_count": null,
   "metadata": {
    "collapsed": false
   },
   "outputs": [],
   "source": [
    "best_log.score(X_test_std, y_test)"
   ]
  },
  {
   "cell_type": "code",
   "execution_count": null,
   "metadata": {
    "collapsed": false
   },
   "outputs": [],
   "source": [
    "%timeit best_log.predict(X_test_std)"
   ]
  },
  {
   "cell_type": "code",
   "execution_count": null,
   "metadata": {
    "collapsed": false
   },
   "outputs": [],
   "source": [
    "y_test.value_counts().head(1) / len(y_test)"
   ]
  },
  {
   "cell_type": "code",
   "execution_count": null,
   "metadata": {
    "collapsed": true
   },
   "outputs": [],
   "source": [
    "# This model predicts ~10% more accurately than if we simply took the majority of the \"successful\" event (diabetes +)\n",
    "# This is decent performance from an accuracy standpoint"
   ]
  },
  {
   "cell_type": "code",
   "execution_count": null,
   "metadata": {
    "collapsed": true
   },
   "outputs": [],
   "source": [
    "# NAIVE BAYES "
   ]
  },
  {
   "cell_type": "code",
   "execution_count": null,
   "metadata": {
    "collapsed": true
   },
   "outputs": [],
   "source": [
    "from sklearn.naive_bayes import MultinomialNB\n",
    "from sklearn.grid_search import GridSearchCV\n",
    "from sklearn.cross_validation import KFold, cross_val_score\n",
    "from sklearn.feature_extraction.text import CountVectorizer"
   ]
  },
  {
   "cell_type": "code",
   "execution_count": null,
   "metadata": {
    "collapsed": true
   },
   "outputs": [],
   "source": [
    "# Naive Bayes won't work well in this instance as it is not ok to assume that the features \n",
    "# are all independent of each other\n",
    "# Having issues implementing NB due to Count Vectorizer-- Want to use pd.categorical instead but not sure if it would\n",
    "# suffice"
   ]
  },
  {
   "cell_type": "code",
   "execution_count": null,
   "metadata": {
    "collapsed": true
   },
   "outputs": [],
   "source": [
    "# Random Forest\n",
    "from sklearn.ensemble import RandomForestClassifier"
   ]
  },
  {
   "cell_type": "code",
   "execution_count": null,
   "metadata": {
    "collapsed": false
   },
   "outputs": [],
   "source": [
    "model = RandomForestClassifier(n_estimators=200)\n",
    "\n",
    "# Continue to add features to X\n",
    "#     Build dummy features, include quantitative features, or add text features\n",
    "X = data[['Number of times pregnant', \n",
    "    'Plasma glucose concentration a 2 hours in an oral glucose tolerance test',\n",
    "    'Diastolic blood pressure mm Hg',\n",
    "    'Triceps skin fold thickness (mm)',\n",
    "    '2-Hour serum insulin (mu U/ml)',\n",
    "    'Body mass index (weight in kg/(height in m)^2)',\n",
    "    'Diabetes pedigree function',\n",
    "    'Age (years)',\n",
    "    'Diabetes']].dropna()\n",
    "\n",
    "y = X['Diabetes']\n",
    "\n",
    "X.drop('Diabetes', axis=1, inplace=True)\n"
   ]
  },
  {
   "cell_type": "code",
   "execution_count": null,
   "metadata": {
    "collapsed": false
   },
   "outputs": [],
   "source": [
    "scores = cross_val_score(model, X, y, scoring='accuracy')\n",
    "print('CV accuracy {}, Average accuracy {}'.format(scores, scores.mean()))"
   ]
  },
  {
   "cell_type": "code",
   "execution_count": null,
   "metadata": {
    "collapsed": false
   },
   "outputs": [],
   "source": [
    "model.fit(X, y)\n",
    "\n",
    "# Get columns and their scores\n",
    "features = X.columns\n",
    "feature_importances = model.feature_importances_\n",
    "features_df = pd.DataFrame({'Features': features, 'Importance Score': feature_importances})\n",
    "features_df.sort_values('Importance Score', inplace=True, ascending=False)\n",
    "\n",
    "features_df.head()"
   ]
  },
  {
   "cell_type": "code",
   "execution_count": null,
   "metadata": {
    "collapsed": false
   },
   "outputs": [],
   "source": [
    "%timeit model.predict(X_test_std)"
   ]
  },
  {
   "cell_type": "code",
   "execution_count": null,
   "metadata": {
    "collapsed": true
   },
   "outputs": [],
   "source": [
    "# I feel like I'm missing a lot of insight here since I didn't drop the zeroes. However based on what I have, there was\n",
    "# similar performance for LOGREG, KNN, and RF all performing around 10% more accurately on the \n",
    "# test set than simply finding the percentage of Diabetes positive test subjects. In terms of timing, LOGREG was fastest\n",
    "# at some microseconds, KNN in second at 2 milliseconds, and a distant 3rd was Random Forest at 9 milliseconds. RF did\n",
    "# have a best accuracy of 80% although the average fell close to the average performance of the others.\n",
    "# KNN overfit the training data by memorizing and therefore may not be a good predictor for future data though it\n",
    "# performed decently on this test set. \n"
   ]
  },
  {
   "cell_type": "code",
   "execution_count": null,
   "metadata": {
    "collapsed": true
   },
   "outputs": [],
   "source": [
    "scale = StandardScaler()"
   ]
  },
  {
   "cell_type": "code",
   "execution_count": null,
   "metadata": {
    "collapsed": false
   },
   "outputs": [],
   "source": [
    "X_scale = scale.fit_transform(X_test)"
   ]
  },
  {
   "cell_type": "code",
   "execution_count": null,
   "metadata": {
    "collapsed": false
   },
   "outputs": [],
   "source": [
    "%%time\n",
    "km = KMeans(n_clusters=7, n_init=20)\n",
    "cluster_labels = km.fit_predict(X_scale)"
   ]
  },
  {
   "cell_type": "code",
   "execution_count": null,
   "metadata": {
    "collapsed": false
   },
   "outputs": [],
   "source": [
    "print km.inertia_"
   ]
  },
  {
   "cell_type": "code",
   "execution_count": null,
   "metadata": {
    "collapsed": false
   },
   "outputs": [],
   "source": [
    "import matplotlib.pyplot as plt\n",
    "%matplotlib inline\n",
    "\n",
    "x = []\n",
    "y = []\n",
    "for n in range(1,20):\n",
    "    km2 = KMeans(n_clusters=n)\n",
    "    km2.fit(X_scale)\n",
    "    x.append(n)\n",
    "    y.append(km2.inertia_)\n",
    "plt.plot(x, y)"
   ]
  },
  {
   "cell_type": "code",
   "execution_count": null,
   "metadata": {
    "collapsed": false
   },
   "outputs": [],
   "source": [
    "from sklearn.metrics import silhouette_score\n",
    "print silhouette_score(X_scale, cluster_labels)"
   ]
  },
  {
   "cell_type": "code",
   "execution_count": null,
   "metadata": {
    "collapsed": false
   },
   "outputs": [],
   "source": [
    "x = []\n",
    "y = []\n",
    "for n in range(2,20):\n",
    "    km2 = KMeans(n_clusters=n)\n",
    "    centers = km2.fit_predict(X_scale)\n",
    "    x.append(n)\n",
    "    y.append(silhouette_score(X_scale, centers))\n",
    "plt.plot(x, y)"
   ]
  },
  {
   "cell_type": "code",
   "execution_count": null,
   "metadata": {
    "collapsed": false
   },
   "outputs": [],
   "source": [
    "km = KMeans(n_clusters=3, n_init=20)\n",
    "km.fit(X_scale)\n",
    "pd.set_option('display.float_format', lambda x: '%.3f' % x)\n",
    "columns = {str(x): scale.inverse_transform(km.cluster_centers_[x]) for x in range(0,len(km.cluster_centers_))}\n",
    "pd.DataFrame(columns, index=X_test.columns)"
   ]
  },
  {
   "cell_type": "code",
   "execution_count": null,
   "metadata": {
    "collapsed": false
   },
   "outputs": [],
   "source": [
    "X_test.head()"
   ]
  },
  {
   "cell_type": "code",
   "execution_count": null,
   "metadata": {
    "collapsed": true
   },
   "outputs": [],
   "source": [
    "X_test['labels'] = km.labels_"
   ]
  },
  {
   "cell_type": "code",
   "execution_count": null,
   "metadata": {
    "collapsed": false
   },
   "outputs": [],
   "source": [
    "X_test.head()"
   ]
  },
  {
   "cell_type": "code",
   "execution_count": null,
   "metadata": {
    "collapsed": false
   },
   "outputs": [],
   "source": [
    "X_test"
   ]
  },
  {
   "cell_type": "code",
   "execution_count": null,
   "metadata": {
    "collapsed": true
   },
   "outputs": [],
   "source": []
  }
 ],
 "metadata": {
  "kernelspec": {
   "display_name": "Python 2",
   "language": "python",
   "name": "python2"
  },
  "language_info": {
   "codemirror_mode": {
    "name": "ipython",
    "version": 2
   },
   "file_extension": ".py",
   "mimetype": "text/x-python",
   "name": "python",
   "nbconvert_exporter": "python",
   "pygments_lexer": "ipython2",
   "version": "2.7.10"
  }
 },
 "nbformat": 4,
 "nbformat_minor": 0
}
